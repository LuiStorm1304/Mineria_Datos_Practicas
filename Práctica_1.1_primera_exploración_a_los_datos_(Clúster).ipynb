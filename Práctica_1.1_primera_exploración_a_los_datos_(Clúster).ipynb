{
 "cells": [
  {
   "cell_type": "code",
   "execution_count": 3,
   "metadata": {},
   "outputs": [],
   "source": [
    "import pandas as pd\n",
    "import numpy as np\n",
    "import matplotlib as mtl\n",
    "import missingno as msno"
   ]
  },
  {
   "cell_type": "code",
   "execution_count": 4,
   "metadata": {},
   "outputs": [
    {
     "data": {
      "text/html": [
       "<div>\n",
       "<style scoped>\n",
       "    .dataframe tbody tr th:only-of-type {\n",
       "        vertical-align: middle;\n",
       "    }\n",
       "\n",
       "    .dataframe tbody tr th {\n",
       "        vertical-align: top;\n",
       "    }\n",
       "\n",
       "    .dataframe thead th {\n",
       "        text-align: right;\n",
       "    }\n",
       "</style>\n",
       "<table border=\"1\" class=\"dataframe\">\n",
       "  <thead>\n",
       "    <tr style=\"text-align: right;\">\n",
       "      <th></th>\n",
       "      <th>RANK</th>\n",
       "      <th>BRAND</th>\n",
       "      <th>CATEGORIES 1</th>\n",
       "      <th>CATEGORIES 2</th>\n",
       "      <th>FOLLOWERS</th>\n",
       "      <th>ER</th>\n",
       "      <th>iPOSTS ON HASHTAG</th>\n",
       "      <th>MEDIA POSTED</th>\n",
       "    </tr>\n",
       "  </thead>\n",
       "  <tbody>\n",
       "    <tr>\n",
       "      <th>0</th>\n",
       "      <td>1</td>\n",
       "      <td>Selena Gomez</td>\n",
       "      <td>celebrities</td>\n",
       "      <td>musicians</td>\n",
       "      <td>105.4</td>\n",
       "      <td>0.0262</td>\n",
       "      <td>14.5</td>\n",
       "      <td>1.2</td>\n",
       "    </tr>\n",
       "    <tr>\n",
       "      <th>1</th>\n",
       "      <td>2</td>\n",
       "      <td>Taylor Swift</td>\n",
       "      <td>celebrities</td>\n",
       "      <td>musicians</td>\n",
       "      <td>95.2</td>\n",
       "      <td>0.0196</td>\n",
       "      <td>10.5</td>\n",
       "      <td>958.0</td>\n",
       "    </tr>\n",
       "    <tr>\n",
       "      <th>2</th>\n",
       "      <td>3</td>\n",
       "      <td>Ariana Grande</td>\n",
       "      <td>celebrities</td>\n",
       "      <td>musicians</td>\n",
       "      <td>92.3</td>\n",
       "      <td>0.0143</td>\n",
       "      <td>16.9</td>\n",
       "      <td>2.8</td>\n",
       "    </tr>\n",
       "    <tr>\n",
       "      <th>3</th>\n",
       "      <td>4</td>\n",
       "      <td>Beyonce</td>\n",
       "      <td>celebrities</td>\n",
       "      <td>musicians</td>\n",
       "      <td>90.6</td>\n",
       "      <td>0.0253</td>\n",
       "      <td>9.2</td>\n",
       "      <td>1.4</td>\n",
       "    </tr>\n",
       "    <tr>\n",
       "      <th>4</th>\n",
       "      <td>5</td>\n",
       "      <td>Kim Kardashian West</td>\n",
       "      <td>celebrities</td>\n",
       "      <td>tv</td>\n",
       "      <td>89.3</td>\n",
       "      <td>0.0139</td>\n",
       "      <td>5.1</td>\n",
       "      <td>3.6</td>\n",
       "    </tr>\n",
       "  </tbody>\n",
       "</table>\n",
       "</div>"
      ],
      "text/plain": [
       "   RANK                BRAND CATEGORIES 1 CATEGORIES 2  FOLLOWERS      ER  \\\n",
       "0     1         Selena Gomez  celebrities    musicians      105.4  0.0262   \n",
       "1     2         Taylor Swift  celebrities    musicians       95.2  0.0196   \n",
       "2     3        Ariana Grande  celebrities    musicians       92.3  0.0143   \n",
       "3     4              Beyonce  celebrities    musicians       90.6  0.0253   \n",
       "4     5  Kim Kardashian West  celebrities           tv       89.3  0.0139   \n",
       "\n",
       "  iPOSTS ON HASHTAG  MEDIA POSTED  \n",
       "0              14.5           1.2  \n",
       "1              10.5         958.0  \n",
       "2              16.9           2.8  \n",
       "3               9.2           1.4  \n",
       "4               5.1           3.6  "
      ]
     },
     "execution_count": 4,
     "metadata": {},
     "output_type": "execute_result"
    }
   ],
   "source": [
    "df = pd.read_csv(\"datos_cluster_Instagram.csv\")\n",
    "df.head()"
   ]
  },
  {
   "cell_type": "code",
   "execution_count": null,
   "metadata": {},
   "outputs": [],
   "source": []
  }
 ],
 "metadata": {
  "kernelspec": {
   "display_name": "Python 3",
   "language": "python",
   "name": "python3"
  },
  "language_info": {
   "codemirror_mode": {
    "name": "ipython",
    "version": 3
   },
   "file_extension": ".py",
   "mimetype": "text/x-python",
   "name": "python",
   "nbconvert_exporter": "python",
   "pygments_lexer": "ipython3",
   "version": "3.8.4"
  }
 },
 "nbformat": 4,
 "nbformat_minor": 4
}
