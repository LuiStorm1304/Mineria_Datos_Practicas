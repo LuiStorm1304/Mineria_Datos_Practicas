{
 "cells": [
  {
   "cell_type": "markdown",
   "metadata": {},
   "source": [
    "# Proyecto Final"
   ]
  },
  {
   "cell_type": "markdown",
   "metadata": {},
   "source": [
    "## 1.- Businnes Understanding"
   ]
  },
  {
   "cell_type": "markdown",
   "metadata": {},
   "source": []
  },
  {
   "cell_type": "markdown",
   "metadata": {},
   "source": [
    "## 2.- Data Understanding"
   ]
  },
  {
   "cell_type": "markdown",
   "metadata": {},
   "source": [
    "Importamos las librerias"
   ]
  },
  {
   "cell_type": "code",
   "execution_count": 1,
   "metadata": {},
   "outputs": [
    {
     "name": "stderr",
     "output_type": "stream",
     "text": [
      "c:\\users\\pcs\\appdata\\local\\programs\\python\\python38\\lib\\site-packages\\sklearn\\utils\\deprecation.py:143: FutureWarning: The sklearn.datasets.samples_generator module is  deprecated in version 0.22 and will be removed in version 0.24. The corresponding classes / functions should instead be imported from sklearn.datasets. Anything that cannot be imported from sklearn.datasets is now part of the private API.\n",
      "  warnings.warn(message, FutureWarning)\n"
     ]
    }
   ],
   "source": [
    "#Análisis exploratorio de datos\n",
    "import pandas as pd\n",
    "import numpy as np\n",
    "import matplotlib.pyplot as mpl\n",
    "import missingno as msno\n",
    "\n",
    "#Clúster\n",
    "import random \n",
    "from sklearn.cluster import KMeans \n",
    "from sklearn.datasets.samples_generator import make_blobs \n",
    "%matplotlib inline\n",
    "from sklearn.preprocessing import StandardScaler\n",
    "\n",
    "#Regresión\n",
    "\n",
    "#Clasificación"
   ]
  },
  {
   "cell_type": "markdown",
   "metadata": {},
   "source": [
    "Cargamos los datos"
   ]
  },
  {
   "cell_type": "code",
   "execution_count": 2,
   "metadata": {},
   "outputs": [],
   "source": [
    "df = pd.read_csv(\"AirBnb_Mexico.csv\")"
   ]
  },
  {
   "cell_type": "markdown",
   "metadata": {},
   "source": [
    "Exploración de los datos"
   ]
  },
  {
   "cell_type": "code",
   "execution_count": 3,
   "metadata": {},
   "outputs": [
    {
     "data": {
      "text/plain": [
       "(19030, 15)"
      ]
     },
     "execution_count": 3,
     "metadata": {},
     "output_type": "execute_result"
    }
   ],
   "source": [
    "df.shape"
   ]
  },
  {
   "cell_type": "code",
   "execution_count": 4,
   "metadata": {},
   "outputs": [
    {
     "data": {
      "text/html": [
       "<div>\n",
       "<style scoped>\n",
       "    .dataframe tbody tr th:only-of-type {\n",
       "        vertical-align: middle;\n",
       "    }\n",
       "\n",
       "    .dataframe tbody tr th {\n",
       "        vertical-align: top;\n",
       "    }\n",
       "\n",
       "    .dataframe thead th {\n",
       "        text-align: right;\n",
       "    }\n",
       "</style>\n",
       "<table border=\"1\" class=\"dataframe\">\n",
       "  <thead>\n",
       "    <tr style=\"text-align: right;\">\n",
       "      <th></th>\n",
       "      <th>id</th>\n",
       "      <th>name</th>\n",
       "      <th>host_id</th>\n",
       "      <th>host_name</th>\n",
       "      <th>neighbourhood</th>\n",
       "      <th>latitude</th>\n",
       "      <th>longitude</th>\n",
       "      <th>room_type</th>\n",
       "      <th>price</th>\n",
       "      <th>minimum_nights</th>\n",
       "      <th>number_of_reviews</th>\n",
       "      <th>last_review</th>\n",
       "      <th>reviews_per_month</th>\n",
       "      <th>calculated_host_listings_count</th>\n",
       "      <th>availability_365</th>\n",
       "    </tr>\n",
       "  </thead>\n",
       "  <tbody>\n",
       "    <tr>\n",
       "      <th>0</th>\n",
       "      <td>14714</td>\n",
       "      <td>Private room c/ bathroom . Colonia Juarez.</td>\n",
       "      <td>57785</td>\n",
       "      <td>Diego</td>\n",
       "      <td>Cuauhtémoc</td>\n",
       "      <td>19.43035</td>\n",
       "      <td>-99.15511</td>\n",
       "      <td>Private room</td>\n",
       "      <td>478</td>\n",
       "      <td>2</td>\n",
       "      <td>0</td>\n",
       "      <td>NaN</td>\n",
       "      <td>NaN</td>\n",
       "      <td>2</td>\n",
       "      <td>327</td>\n",
       "    </tr>\n",
       "    <tr>\n",
       "      <th>1</th>\n",
       "      <td>22787</td>\n",
       "      <td>Sunny suite w/ queen size bed, inside boutique...</td>\n",
       "      <td>87973</td>\n",
       "      <td>Diego</td>\n",
       "      <td>Cuauhtémoc</td>\n",
       "      <td>19.44076</td>\n",
       "      <td>-99.16324</td>\n",
       "      <td>Private room</td>\n",
       "      <td>1969</td>\n",
       "      <td>1</td>\n",
       "      <td>57</td>\n",
       "      <td>27/05/2019</td>\n",
       "      <td>0.52</td>\n",
       "      <td>9</td>\n",
       "      <td>355</td>\n",
       "    </tr>\n",
       "    <tr>\n",
       "      <th>2</th>\n",
       "      <td>33681</td>\n",
       "      <td>Couple of Rooms</td>\n",
       "      <td>145672</td>\n",
       "      <td>Edubiel</td>\n",
       "      <td>Tlalpan</td>\n",
       "      <td>19.27215</td>\n",
       "      <td>-99.21848</td>\n",
       "      <td>Private room</td>\n",
       "      <td>1740</td>\n",
       "      <td>1</td>\n",
       "      <td>0</td>\n",
       "      <td>NaN</td>\n",
       "      <td>NaN</td>\n",
       "      <td>1</td>\n",
       "      <td>365</td>\n",
       "    </tr>\n",
       "    <tr>\n",
       "      <th>3</th>\n",
       "      <td>35797</td>\n",
       "      <td>Villa Dante</td>\n",
       "      <td>153786</td>\n",
       "      <td>Dici</td>\n",
       "      <td>Cuajimalpa de Morelos</td>\n",
       "      <td>19.38399</td>\n",
       "      <td>-99.27335</td>\n",
       "      <td>Entire home/apt</td>\n",
       "      <td>3823</td>\n",
       "      <td>1</td>\n",
       "      <td>0</td>\n",
       "      <td>NaN</td>\n",
       "      <td>NaN</td>\n",
       "      <td>2</td>\n",
       "      <td>363</td>\n",
       "    </tr>\n",
       "    <tr>\n",
       "      <th>4</th>\n",
       "      <td>44616</td>\n",
       "      <td>CONDESA HAUS  B&amp;B</td>\n",
       "      <td>196253</td>\n",
       "      <td>Condesa Haus Bed &amp; Breakfast  CDMX</td>\n",
       "      <td>Cuauhtémoc</td>\n",
       "      <td>19.41006</td>\n",
       "      <td>-99.17645</td>\n",
       "      <td>Private room</td>\n",
       "      <td>1893</td>\n",
       "      <td>1</td>\n",
       "      <td>39</td>\n",
       "      <td>02/05/2019</td>\n",
       "      <td>0.42</td>\n",
       "      <td>10</td>\n",
       "      <td>334</td>\n",
       "    </tr>\n",
       "  </tbody>\n",
       "</table>\n",
       "</div>"
      ],
      "text/plain": [
       "      id                                               name  host_id  \\\n",
       "0  14714         Private room c/ bathroom . Colonia Juarez.    57785   \n",
       "1  22787  Sunny suite w/ queen size bed, inside boutique...    87973   \n",
       "2  33681                                    Couple of Rooms   145672   \n",
       "3  35797                                        Villa Dante   153786   \n",
       "4  44616                                  CONDESA HAUS  B&B   196253   \n",
       "\n",
       "                            host_name          neighbourhood  latitude  \\\n",
       "0                               Diego             Cuauhtémoc  19.43035   \n",
       "1                               Diego             Cuauhtémoc  19.44076   \n",
       "2                             Edubiel                Tlalpan  19.27215   \n",
       "3                                Dici  Cuajimalpa de Morelos  19.38399   \n",
       "4  Condesa Haus Bed & Breakfast  CDMX             Cuauhtémoc  19.41006   \n",
       "\n",
       "   longitude        room_type  price  minimum_nights  number_of_reviews  \\\n",
       "0  -99.15511     Private room    478               2                  0   \n",
       "1  -99.16324     Private room   1969               1                 57   \n",
       "2  -99.21848     Private room   1740               1                  0   \n",
       "3  -99.27335  Entire home/apt   3823               1                  0   \n",
       "4  -99.17645     Private room   1893               1                 39   \n",
       "\n",
       "  last_review  reviews_per_month  calculated_host_listings_count  \\\n",
       "0         NaN                NaN                               2   \n",
       "1  27/05/2019               0.52                               9   \n",
       "2         NaN                NaN                               1   \n",
       "3         NaN                NaN                               2   \n",
       "4  02/05/2019               0.42                              10   \n",
       "\n",
       "   availability_365  \n",
       "0               327  \n",
       "1               355  \n",
       "2               365  \n",
       "3               363  \n",
       "4               334  "
      ]
     },
     "execution_count": 4,
     "metadata": {},
     "output_type": "execute_result"
    }
   ],
   "source": [
    "df.head()"
   ]
  },
  {
   "cell_type": "code",
   "execution_count": 5,
   "metadata": {},
   "outputs": [
    {
     "data": {
      "text/plain": [
       "['id',\n",
       " 'name',\n",
       " 'host_id',\n",
       " 'host_name',\n",
       " 'neighbourhood',\n",
       " 'latitude',\n",
       " 'longitude',\n",
       " 'room_type',\n",
       " 'price',\n",
       " 'minimum_nights',\n",
       " 'number_of_reviews',\n",
       " 'last_review',\n",
       " 'reviews_per_month',\n",
       " 'calculated_host_listings_count',\n",
       " 'availability_365']"
      ]
     },
     "execution_count": 5,
     "metadata": {},
     "output_type": "execute_result"
    }
   ],
   "source": [
    "variables = df.columns.values.tolist()\n",
    "variables"
   ]
  },
  {
   "cell_type": "code",
   "execution_count": 6,
   "metadata": {},
   "outputs": [
    {
     "data": {
      "text/plain": [
       "id                                  int64\n",
       "name                               object\n",
       "host_id                             int64\n",
       "host_name                          object\n",
       "neighbourhood                      object\n",
       "latitude                          float64\n",
       "longitude                         float64\n",
       "room_type                          object\n",
       "price                               int64\n",
       "minimum_nights                      int64\n",
       "number_of_reviews                   int64\n",
       "last_review                        object\n",
       "reviews_per_month                 float64\n",
       "calculated_host_listings_count      int64\n",
       "availability_365                    int64\n",
       "dtype: object"
      ]
     },
     "execution_count": 6,
     "metadata": {},
     "output_type": "execute_result"
    }
   ],
   "source": [
    "df.dtypes"
   ]
  },
  {
   "cell_type": "code",
   "execution_count": 7,
   "metadata": {},
   "outputs": [],
   "source": [
    "df.columns = ['ID', 'RAZONSOCIAL', 'ID_HOST', 'HOST_NOMBRE', 'DELEGACION', 'LAT',\n",
    "       'LON', 'TIPO_HABITACION', 'PRECIO', 'MIN_NOCHES',\n",
    "       'N_COMENTARIOS', 'ULTIMO_COMENTARIO', 'COMENTARIOSXMES',\n",
    "       'N_VECES_HOST_LISTADO', 'DISPONIBILIDAD']"
   ]
  },
  {
   "cell_type": "code",
   "execution_count": 8,
   "metadata": {},
   "outputs": [
    {
     "data": {
      "text/plain": [
       "True"
      ]
     },
     "execution_count": 8,
     "metadata": {},
     "output_type": "execute_result"
    }
   ],
   "source": [
    "df.isnull().any().any()"
   ]
  },
  {
   "cell_type": "code",
   "execution_count": 9,
   "metadata": {},
   "outputs": [
    {
     "data": {
      "text/plain": [
       "<AxesSubplot:>"
      ]
     },
     "execution_count": 9,
     "metadata": {},
     "output_type": "execute_result"
    },
    {
     "data": {
      "image/png": "[encoded data removed]",
      "text/plain": [
       "<Figure size 1800x720 with 2 Axes>"
      ]
     },
     "metadata": {
      "needs_background": "light"
     },
     "output_type": "display_data"
    }
   ],
   "source": [
    "msno.matrix(df)"
   ]
  },
  {
   "cell_type": "code",
   "execution_count": 10,
   "metadata": {},
   "outputs": [
    {
     "data": {
      "text/html": [
       "<div>\n",
       "<style scoped>\n",
       "    .dataframe tbody tr th:only-of-type {\n",
       "        vertical-align: middle;\n",
       "    }\n",
       "\n",
       "    .dataframe tbody tr th {\n",
       "        vertical-align: top;\n",
       "    }\n",
       "\n",
       "    .dataframe thead th {\n",
       "        text-align: right;\n",
       "    }\n",
       "</style>\n",
       "<table border=\"1\" class=\"dataframe\">\n",
       "  <thead>\n",
       "    <tr style=\"text-align: right;\">\n",
       "      <th></th>\n",
       "      <th>ID</th>\n",
       "      <th>RAZONSOCIAL</th>\n",
       "      <th>ID_HOST</th>\n",
       "      <th>HOST_NOMBRE</th>\n",
       "      <th>DELEGACION</th>\n",
       "      <th>LAT</th>\n",
       "      <th>LON</th>\n",
       "      <th>TIPO_HABITACION</th>\n",
       "      <th>PRECIO</th>\n",
       "      <th>MIN_NOCHES</th>\n",
       "      <th>N_COMENTARIOS</th>\n",
       "      <th>ULTIMO_COMENTARIO</th>\n",
       "      <th>COMENTARIOSXMES</th>\n",
       "      <th>N_VECES_HOST_LISTADO</th>\n",
       "      <th>DISPONIBILIDAD</th>\n",
       "    </tr>\n",
       "  </thead>\n",
       "  <tbody>\n",
       "    <tr>\n",
       "      <th>count</th>\n",
       "      <td>19030</td>\n",
       "      <td>19017</td>\n",
       "      <td>19030</td>\n",
       "      <td>18968</td>\n",
       "      <td>19030</td>\n",
       "      <td>19030</td>\n",
       "      <td>19030</td>\n",
       "      <td>19030</td>\n",
       "      <td>19030</td>\n",
       "      <td>19030</td>\n",
       "      <td>19030</td>\n",
       "      <td>14222</td>\n",
       "      <td>14222</td>\n",
       "      <td>19030</td>\n",
       "      <td>19030</td>\n",
       "    </tr>\n",
       "    <tr>\n",
       "      <th>size</th>\n",
       "      <td>19030</td>\n",
       "      <td>19030</td>\n",
       "      <td>19030</td>\n",
       "      <td>19030</td>\n",
       "      <td>19030</td>\n",
       "      <td>19030</td>\n",
       "      <td>19030</td>\n",
       "      <td>19030</td>\n",
       "      <td>19030</td>\n",
       "      <td>19030</td>\n",
       "      <td>19030</td>\n",
       "      <td>19030</td>\n",
       "      <td>19030</td>\n",
       "      <td>19030</td>\n",
       "      <td>19030</td>\n",
       "    </tr>\n",
       "    <tr>\n",
       "      <th>nunique</th>\n",
       "      <td>19030</td>\n",
       "      <td>18542</td>\n",
       "      <td>12208</td>\n",
       "      <td>3898</td>\n",
       "      <td>16</td>\n",
       "      <td>10282</td>\n",
       "      <td>8655</td>\n",
       "      <td>3</td>\n",
       "      <td>364</td>\n",
       "      <td>62</td>\n",
       "      <td>268</td>\n",
       "      <td>1025</td>\n",
       "      <td>847</td>\n",
       "      <td>34</td>\n",
       "      <td>366</td>\n",
       "    </tr>\n",
       "  </tbody>\n",
       "</table>\n",
       "</div>"
      ],
      "text/plain": [
       "            ID  RAZONSOCIAL  ID_HOST  HOST_NOMBRE  DELEGACION    LAT    LON  \\\n",
       "count    19030        19017    19030        18968       19030  19030  19030   \n",
       "size     19030        19030    19030        19030       19030  19030  19030   \n",
       "nunique  19030        18542    12208         3898          16  10282   8655   \n",
       "\n",
       "         TIPO_HABITACION  PRECIO  MIN_NOCHES  N_COMENTARIOS  \\\n",
       "count              19030   19030       19030          19030   \n",
       "size               19030   19030       19030          19030   \n",
       "nunique                3     364          62            268   \n",
       "\n",
       "         ULTIMO_COMENTARIO  COMENTARIOSXMES  N_VECES_HOST_LISTADO  \\\n",
       "count                14222            14222                 19030   \n",
       "size                 19030            19030                 19030   \n",
       "nunique               1025              847                    34   \n",
       "\n",
       "         DISPONIBILIDAD  \n",
       "count             19030  \n",
       "size              19030  \n",
       "nunique             366  "
      ]
     },
     "execution_count": 10,
     "metadata": {},
     "output_type": "execute_result"
    }
   ],
   "source": [
    "df.agg(['count', 'size', 'nunique'])"
   ]
  },
  {
   "cell_type": "code",
   "execution_count": 11,
   "metadata": {},
   "outputs": [
    {
     "data": {
      "text/plain": [
       "<AxesSubplot:>"
      ]
     },
     "execution_count": 11,
     "metadata": {},
     "output_type": "execute_result"
    },
    {
     "data": {
      "image/png": "[encoded data removed]",
      "text/plain": [
       "<Figure size 1728x720 with 3 Axes>"
      ]
     },
     "metadata": {
      "needs_background": "light"
     },
     "output_type": "display_data"
    }
   ],
   "source": [
    "msno.bar(df)"
   ]
  },
  {
   "cell_type": "code",
   "execution_count": 12,
   "metadata": {},
   "outputs": [
    {
     "data": {
      "text/plain": [
       "['RAZONSOCIAL', 'HOST_NOMBRE', 'ULTIMO_COMENTARIO', 'COMENTARIOSXMES']"
      ]
     },
     "execution_count": 12,
     "metadata": {},
     "output_type": "execute_result"
    }
   ],
   "source": [
    "df.columns[df.isnull().any()].tolist()"
   ]
  },
  {
   "cell_type": "code",
   "execution_count": 13,
   "metadata": {},
   "outputs": [
    {
     "data": {
      "text/plain": [
       "(19030, 15)"
      ]
     },
     "execution_count": 13,
     "metadata": {},
     "output_type": "execute_result"
    }
   ],
   "source": [
    "df_copia = df.copy()\n",
    "df_copia.shape"
   ]
  },
  {
   "cell_type": "code",
   "execution_count": 14,
   "metadata": {},
   "outputs": [
    {
     "data": {
      "text/plain": [
       "(14154, 15)"
      ]
     },
     "execution_count": 14,
     "metadata": {},
     "output_type": "execute_result"
    }
   ],
   "source": [
    "df = df.dropna()\n",
    "df.shape"
   ]
  },
  {
   "cell_type": "code",
   "execution_count": 15,
   "metadata": {},
   "outputs": [
    {
     "data": {
      "text/plain": [
       "<AxesSubplot:>"
      ]
     },
     "execution_count": 15,
     "metadata": {},
     "output_type": "execute_result"
    },
    {
     "data": {
      "image/png": "[encoded data removed]",
      "text/plain": [
       "<Figure size 1728x720 with 3 Axes>"
      ]
     },
     "metadata": {
      "needs_background": "light"
     },
     "output_type": "display_data"
    },
    {
     "data": {
      "image/png": "[encoded data removed]",
      "text/plain": [
       "<Figure size 1800x720 with 2 Axes>"
      ]
     },
     "metadata": {
      "needs_background": "light"
     },
     "output_type": "display_data"
    }
   ],
   "source": [
    "msno.bar(df)\n",
    "msno.matrix(df)"
   ]
  },
  {
   "cell_type": "markdown",
   "metadata": {},
   "source": [
    "Variables númericas"
   ]
  },
  {
   "cell_type": "code",
   "execution_count": 17,
   "metadata": {},
   "outputs": [
    {
     "data": {
      "text/html": [
       "<div>\n",
       "<style scoped>\n",
       "    .dataframe tbody tr th:only-of-type {\n",
       "        vertical-align: middle;\n",
       "    }\n",
       "\n",
       "    .dataframe tbody tr th {\n",
       "        vertical-align: top;\n",
       "    }\n",
       "\n",
       "    .dataframe thead th {\n",
       "        text-align: right;\n",
       "    }\n",
       "</style>\n",
       "<table border=\"1\" class=\"dataframe\">\n",
       "  <thead>\n",
       "    <tr style=\"text-align: right;\">\n",
       "      <th></th>\n",
       "      <th>PRECIO</th>\n",
       "      <th>MIN_NOCHES</th>\n",
       "      <th>N_COMENTARIOS</th>\n",
       "      <th>COMENTARIOSXMES</th>\n",
       "      <th>N_VECES_HOST_LISTADO</th>\n",
       "      <th>DISPONIBILIDAD</th>\n",
       "    </tr>\n",
       "  </thead>\n",
       "  <tbody>\n",
       "    <tr>\n",
       "      <th>count</th>\n",
       "      <td>14154.000000</td>\n",
       "      <td>14154.000000</td>\n",
       "      <td>14154.000000</td>\n",
       "      <td>14154.000000</td>\n",
       "      <td>14154.000000</td>\n",
       "      <td>14154.000000</td>\n",
       "    </tr>\n",
       "    <tr>\n",
       "      <th>mean</th>\n",
       "      <td>1058.935001</td>\n",
       "      <td>2.578847</td>\n",
       "      <td>26.883355</td>\n",
       "      <td>1.697628</td>\n",
       "      <td>4.234068</td>\n",
       "      <td>214.174438</td>\n",
       "    </tr>\n",
       "    <tr>\n",
       "      <th>std</th>\n",
       "      <td>2492.151766</td>\n",
       "      <td>13.966202</td>\n",
       "      <td>39.395254</td>\n",
       "      <td>1.764299</td>\n",
       "      <td>6.858955</td>\n",
       "      <td>130.937909</td>\n",
       "    </tr>\n",
       "    <tr>\n",
       "      <th>min</th>\n",
       "      <td>0.000000</td>\n",
       "      <td>1.000000</td>\n",
       "      <td>1.000000</td>\n",
       "      <td>0.010000</td>\n",
       "      <td>1.000000</td>\n",
       "      <td>0.000000</td>\n",
       "    </tr>\n",
       "    <tr>\n",
       "      <th>25%</th>\n",
       "      <td>401.000000</td>\n",
       "      <td>1.000000</td>\n",
       "      <td>3.000000</td>\n",
       "      <td>0.410000</td>\n",
       "      <td>1.000000</td>\n",
       "      <td>89.000000</td>\n",
       "    </tr>\n",
       "    <tr>\n",
       "      <th>50%</th>\n",
       "      <td>707.000000</td>\n",
       "      <td>2.000000</td>\n",
       "      <td>11.000000</td>\n",
       "      <td>1.060000</td>\n",
       "      <td>2.000000</td>\n",
       "      <td>221.000000</td>\n",
       "    </tr>\n",
       "    <tr>\n",
       "      <th>75%</th>\n",
       "      <td>1223.000000</td>\n",
       "      <td>2.000000</td>\n",
       "      <td>34.000000</td>\n",
       "      <td>2.400000</td>\n",
       "      <td>4.000000</td>\n",
       "      <td>346.000000</td>\n",
       "    </tr>\n",
       "    <tr>\n",
       "      <th>max</th>\n",
       "      <td>191170.000000</td>\n",
       "      <td>1000.000000</td>\n",
       "      <td>470.000000</td>\n",
       "      <td>15.810000</td>\n",
       "      <td>45.000000</td>\n",
       "      <td>365.000000</td>\n",
       "    </tr>\n",
       "  </tbody>\n",
       "</table>\n",
       "</div>"
      ],
      "text/plain": [
       "              PRECIO    MIN_NOCHES  N_COMENTARIOS  COMENTARIOSXMES  \\\n",
       "count   14154.000000  14154.000000   14154.000000     14154.000000   \n",
       "mean     1058.935001      2.578847      26.883355         1.697628   \n",
       "std      2492.151766     13.966202      39.395254         1.764299   \n",
       "min         0.000000      1.000000       1.000000         0.010000   \n",
       "25%       401.000000      1.000000       3.000000         0.410000   \n",
       "50%       707.000000      2.000000      11.000000         1.060000   \n",
       "75%      1223.000000      2.000000      34.000000         2.400000   \n",
       "max    191170.000000   1000.000000     470.000000        15.810000   \n",
       "\n",
       "       N_VECES_HOST_LISTADO  DISPONIBILIDAD  \n",
       "count          14154.000000    14154.000000  \n",
       "mean               4.234068      214.174438  \n",
       "std                6.858955      130.937909  \n",
       "min                1.000000        0.000000  \n",
       "25%                1.000000       89.000000  \n",
       "50%                2.000000      221.000000  \n",
       "75%                4.000000      346.000000  \n",
       "max               45.000000      365.000000  "
      ]
     },
     "execution_count": 17,
     "metadata": {},
     "output_type": "execute_result"
    }
   ],
   "source": [
    "df[[\"PRECIO\",\"MIN_NOCHES\",\"N_COMENTARIOS\",\"ULTIMO_COMENTARIO\",\"COMENTARIOSXMES\",\"N_VECES_HOST_LISTADO\",\"DISPONIBILIDAD\"]].describe()"
   ]
  },
  {
   "cell_type": "code",
   "execution_count": 18,
   "metadata": {},
   "outputs": [
    {
     "data": {
      "text/plain": [
       "Text(0.5, 1.0, 'FRECUENCIA POR PRECIO')"
      ]
     },
     "execution_count": 18,
     "metadata": {},
     "output_type": "execute_result"
    },
    {
     "data": {
      "image/png": "[encoded data removed]",
      "text/plain": [
       "<Figure size 432x288 with 1 Axes>"
      ]
     },
     "metadata": {
      "needs_background": "light"
     },
     "output_type": "display_data"
    }
   ],
   "source": [
    "mpl.hist(df['PRECIO'])\n",
    "mpl.xlabel('PRECIO')\n",
    "mpl.ylabel('FRECUENCIA')\n",
    "mpl.title('FRECUENCIA POR PRECIO')"
   ]
  },
  {
   "cell_type": "code",
   "execution_count": 19,
   "metadata": {},
   "outputs": [
    {
     "data": {
      "text/plain": [
       "Text(0.5, 1.0, 'FRECUENCIA POR MIN_NOCHES')"
      ]
     },
     "execution_count": 19,
     "metadata": {},
     "output_type": "execute_result"
    },
    {
     "data": {
      "image/png": "[encoded data removed]",
      "text/plain": [
       "<Figure size 432x288 with 1 Axes>"
      ]
     },
     "metadata": {
      "needs_background": "light"
     },
     "output_type": "display_data"
    }
   ],
   "source": [
    "mpl.hist(df['MIN_NOCHES'])\n",
    "mpl.xlabel('MIN_NOCHES')\n",
    "mpl.ylabel('FRECUENCIA')\n",
    "mpl.title('FRECUENCIA POR MIN_NOCHES')"
   ]
  },
  {
   "cell_type": "code",
   "execution_count": 20,
   "metadata": {},
   "outputs": [
    {
     "data": {
      "text/plain": [
       "Text(0.5, 1.0, 'FRECUENCIA POR N_COMENTARIOS')"
      ]
     },
     "execution_count": 20,
     "metadata": {},
     "output_type": "execute_result"
    },
    {
     "data": {
      "image/png": "[encoded data removed]",
      "text/plain": [
       "<Figure size 432x288 with 1 Axes>"
      ]
     },
     "metadata": {
      "needs_background": "light"
     },
     "output_type": "display_data"
    }
   ],
   "source": [
    "mpl.hist(df['N_COMENTARIOS'])\n",
    "mpl.xlabel('N_COMENTARIOS')\n",
    "mpl.ylabel('FRECUENCIA')\n",
    "mpl.title('FRECUENCIA POR N_COMENTARIOS')"
   ]
  },
  {
   "cell_type": "code",
   "execution_count": 21,
   "metadata": {},
   "outputs": [
    {
     "data": {
      "text/plain": [
       "Text(0.5, 1.0, 'FRECUENCIA POR COMENTARIOSXMES')"
      ]
     },
     "execution_count": 21,
     "metadata": {},
     "output_type": "execute_result"
    },
    {
     "data": {
      "image/png": "[encoded data removed]",
      "text/plain": [
       "<Figure size 432x288 with 1 Axes>"
      ]
     },
     "metadata": {
      "needs_background": "light"
     },
     "output_type": "display_data"
    }
   ],
   "source": [
    "mpl.hist(df['COMENTARIOSXMES'])\n",
    "mpl.xlabel('COMENTARIOSXMES')\n",
    "mpl.ylabel('FRECUENCIA')\n",
    "mpl.title('FRECUENCIA POR COMENTARIOSXMES')"
   ]
  },
  {
   "cell_type": "code",
   "execution_count": 22,
   "metadata": {},
   "outputs": [
    {
     "data": {
      "text/plain": [
       "Text(0.5, 1.0, 'FRECUENCIA POR N_VECES_HOST_LISTADO')"
      ]
     },
     "execution_count": 22,
     "metadata": {},
     "output_type": "execute_result"
    },
    {
     "data": {
      "image/png": "[encoded data removed]",
      "text/plain": [
       "<Figure size 432x288 with 1 Axes>"
      ]
     },
     "metadata": {
      "needs_background": "light"
     },
     "output_type": "display_data"
    }
   ],
   "source": [
    "mpl.hist(df['N_VECES_HOST_LISTADO'])\n",
    "mpl.xlabel('N_VECES_HOST_LISTADO')\n",
    "mpl.ylabel('FRECUENCIA')\n",
    "mpl.title('FRECUENCIA POR N_VECES_HOST_LISTADO')"
   ]
  },
  {
   "cell_type": "code",
   "execution_count": 23,
   "metadata": {},
   "outputs": [
    {
     "data": {
      "text/plain": [
       "Text(0.5, 1.0, 'FRECUENCIA POR DISPONIBILIDAD')"
      ]
     },
     "execution_count": 23,
     "metadata": {},
     "output_type": "execute_result"
    },
    {
     "data": {
      "image/png": "[encoded data removed]",
      "text/plain": [
       "<Figure size 432x288 with 1 Axes>"
      ]
     },
     "metadata": {
      "needs_background": "light"
     },
     "output_type": "display_data"
    }
   ],
   "source": [
    "mpl.hist(df['DISPONIBILIDAD'])\n",
    "mpl.xlabel('DISPONIBILIDAD')\n",
    "mpl.ylabel('FRECUENCIA')\n",
    "mpl.title('FRECUENCIA POR DISPONIBILIDAD')"
   ]
  },
  {
   "cell_type": "code",
   "execution_count": 24,
   "metadata": {},
   "outputs": [
    {
     "data": {
      "text/plain": [
       "<AxesSubplot:xlabel='PRECIO', ylabel='DELEGACION'>"
      ]
     },
     "execution_count": 24,
     "metadata": {},
     "output_type": "execute_result"
    },
    {
     "data": {
      "image/png": "[encoded data removed]",
      "text/plain": [
       "<Figure size 432x288 with 1 Axes>"
      ]
     },
     "metadata": {
      "needs_background": "light"
     },
     "output_type": "display_data"
    },
    {
     "name": "stderr",
     "output_type": "stream",
     "text": [
      "c:\\users\\pcs\\appdata\\local\\programs\\python\\python38\\lib\\site-packages\\matplotlib\\backends\\backend_agg.py:238: RuntimeWarning: Glyph 129 missing from current font.\n",
      "  font.set_text(s, 0.0, flags=flags)\n",
      "c:\\users\\pcs\\appdata\\local\\programs\\python\\python38\\lib\\site-packages\\matplotlib\\backends\\backend_agg.py:201: RuntimeWarning: Glyph 129 missing from current font.\n",
      "  font.set_text(s, 0, flags=flags)\n"
     ]
    },
    {
     "data": {
      "image/png": "[encoded data removed]",
      "text/plain": [
       "<Figure size 432x288 with 1 Axes>"
      ]
     },
     "metadata": {
      "needs_background": "light"
     },
     "output_type": "display_data"
    }
   ],
   "source": [
    "df.plot(kind='scatter',x='PRECIO',y='TIPO_HABITACION')\n",
    "df.plot(kind='scatter',x='PRECIO',y='DELEGACION')"
   ]
  },
  {
   "cell_type": "markdown",
   "metadata": {},
   "source": [
    "Variables categóricas"
   ]
  },
  {
   "cell_type": "code",
   "execution_count": 25,
   "metadata": {},
   "outputs": [
    {
     "data": {
      "text/plain": [
       "array(['Private room', 'Entire home/apt', 'Shared room'], dtype=object)"
      ]
     },
     "execution_count": 25,
     "metadata": {},
     "output_type": "execute_result"
    }
   ],
   "source": [
    "df['TIPO_HABITACION'].unique()"
   ]
  },
  {
   "cell_type": "code",
   "execution_count": 26,
   "metadata": {},
   "outputs": [
    {
     "data": {
      "text/plain": [
       "Entire home/apt    7684\n",
       "Private room       6280\n",
       "Shared room         190\n",
       "Name: TIPO_HABITACION, dtype: int64"
      ]
     },
     "execution_count": 26,
     "metadata": {},
     "output_type": "execute_result"
    }
   ],
   "source": [
    "df['TIPO_HABITACION'].value_counts()"
   ]
  },
  {
   "cell_type": "code",
   "execution_count": 27,
   "metadata": {},
   "outputs": [
    {
     "data": {
      "text/plain": [
       "array(['Cuauhtémoc', 'Coyoacán', 'Miguel Hidalgo', 'Benito Juárez',\n",
       "       'Azcapotzalco', 'Tlalpan', 'Iztapalapa', 'Venustiano Carranza',\n",
       "       'Gustavo A. Madero', 'Xochimilco', 'Á\\x81lvaro Obregón',\n",
       "       'La Magdalena Contreras', 'Cuajimalpa de Morelos', 'Iztacalco',\n",
       "       'Tláhuac', 'Milpa Alta'], dtype=object)"
      ]
     },
     "execution_count": 27,
     "metadata": {},
     "output_type": "execute_result"
    }
   ],
   "source": [
    "df['DELEGACION'].unique()"
   ]
  },
  {
   "cell_type": "code",
   "execution_count": 28,
   "metadata": {},
   "outputs": [
    {
     "data": {
      "text/plain": [
       "Cuauhtémoc                6092\n",
       "Miguel Hidalgo            2281\n",
       "Benito Juárez             2221\n",
       "Coyoacán                  1176\n",
       "Álvaro Obregón            589\n",
       "Tlalpan                    504\n",
       "Cuajimalpa de Morelos      284\n",
       "Venustiano Carranza        261\n",
       "Gustavo A. Madero          181\n",
       "Iztacalco                  169\n",
       "Azcapotzalco               132\n",
       "Iztapalapa                 105\n",
       "La Magdalena Contreras      87\n",
       "Xochimilco                  52\n",
       "Tláhuac                     15\n",
       "Milpa Alta                   5\n",
       "Name: DELEGACION, dtype: int64"
      ]
     },
     "execution_count": 28,
     "metadata": {},
     "output_type": "execute_result"
    }
   ],
   "source": [
    "df['DELEGACION'].value_counts()"
   ]
  },
  {
   "cell_type": "code",
   "execution_count": 31,
   "metadata": {},
   "outputs": [
    {
     "data": {
      "text/html": [
       "<div>\n",
       "<style scoped>\n",
       "    .dataframe tbody tr th:only-of-type {\n",
       "        vertical-align: middle;\n",
       "    }\n",
       "\n",
       "    .dataframe tbody tr th {\n",
       "        vertical-align: top;\n",
       "    }\n",
       "\n",
       "    .dataframe thead th {\n",
       "        text-align: right;\n",
       "    }\n",
       "</style>\n",
       "<table border=\"1\" class=\"dataframe\">\n",
       "  <thead>\n",
       "    <tr style=\"text-align: right;\">\n",
       "      <th></th>\n",
       "      <th></th>\n",
       "      <th>ID</th>\n",
       "    </tr>\n",
       "    <tr>\n",
       "      <th>DELEGACION</th>\n",
       "      <th>TIPO_HABITACION</th>\n",
       "      <th></th>\n",
       "    </tr>\n",
       "  </thead>\n",
       "  <tbody>\n",
       "    <tr>\n",
       "      <th rowspan=\"3\" valign=\"top\">Azcapotzalco</th>\n",
       "      <th>Entire home/apt</th>\n",
       "      <td>47</td>\n",
       "    </tr>\n",
       "    <tr>\n",
       "      <th>Private room</th>\n",
       "      <td>83</td>\n",
       "    </tr>\n",
       "    <tr>\n",
       "      <th>Shared room</th>\n",
       "      <td>2</td>\n",
       "    </tr>\n",
       "    <tr>\n",
       "      <th rowspan=\"3\" valign=\"top\">Benito Juárez</th>\n",
       "      <th>Entire home/apt</th>\n",
       "      <td>1022</td>\n",
       "    </tr>\n",
       "    <tr>\n",
       "      <th>Private room</th>\n",
       "      <td>1176</td>\n",
       "    </tr>\n",
       "    <tr>\n",
       "      <th>Shared room</th>\n",
       "      <td>23</td>\n",
       "    </tr>\n",
       "    <tr>\n",
       "      <th rowspan=\"3\" valign=\"top\">Coyoacán</th>\n",
       "      <th>Entire home/apt</th>\n",
       "      <td>434</td>\n",
       "    </tr>\n",
       "    <tr>\n",
       "      <th>Private room</th>\n",
       "      <td>719</td>\n",
       "    </tr>\n",
       "    <tr>\n",
       "      <th>Shared room</th>\n",
       "      <td>23</td>\n",
       "    </tr>\n",
       "    <tr>\n",
       "      <th rowspan=\"3\" valign=\"top\">Cuajimalpa de Morelos</th>\n",
       "      <th>Entire home/apt</th>\n",
       "      <td>162</td>\n",
       "    </tr>\n",
       "    <tr>\n",
       "      <th>Private room</th>\n",
       "      <td>119</td>\n",
       "    </tr>\n",
       "    <tr>\n",
       "      <th>Shared room</th>\n",
       "      <td>3</td>\n",
       "    </tr>\n",
       "    <tr>\n",
       "      <th rowspan=\"3\" valign=\"top\">Cuauhtémoc</th>\n",
       "      <th>Entire home/apt</th>\n",
       "      <td>3781</td>\n",
       "    </tr>\n",
       "    <tr>\n",
       "      <th>Private room</th>\n",
       "      <td>2231</td>\n",
       "    </tr>\n",
       "    <tr>\n",
       "      <th>Shared room</th>\n",
       "      <td>80</td>\n",
       "    </tr>\n",
       "    <tr>\n",
       "      <th rowspan=\"3\" valign=\"top\">Gustavo A. Madero</th>\n",
       "      <th>Entire home/apt</th>\n",
       "      <td>56</td>\n",
       "    </tr>\n",
       "    <tr>\n",
       "      <th>Private room</th>\n",
       "      <td>120</td>\n",
       "    </tr>\n",
       "    <tr>\n",
       "      <th>Shared room</th>\n",
       "      <td>5</td>\n",
       "    </tr>\n",
       "    <tr>\n",
       "      <th rowspan=\"3\" valign=\"top\">Iztacalco</th>\n",
       "      <th>Entire home/apt</th>\n",
       "      <td>78</td>\n",
       "    </tr>\n",
       "    <tr>\n",
       "      <th>Private room</th>\n",
       "      <td>83</td>\n",
       "    </tr>\n",
       "    <tr>\n",
       "      <th>Shared room</th>\n",
       "      <td>8</td>\n",
       "    </tr>\n",
       "    <tr>\n",
       "      <th rowspan=\"3\" valign=\"top\">Iztapalapa</th>\n",
       "      <th>Entire home/apt</th>\n",
       "      <td>28</td>\n",
       "    </tr>\n",
       "    <tr>\n",
       "      <th>Private room</th>\n",
       "      <td>74</td>\n",
       "    </tr>\n",
       "    <tr>\n",
       "      <th>Shared room</th>\n",
       "      <td>3</td>\n",
       "    </tr>\n",
       "    <tr>\n",
       "      <th rowspan=\"2\" valign=\"top\">La Magdalena Contreras</th>\n",
       "      <th>Entire home/apt</th>\n",
       "      <td>36</td>\n",
       "    </tr>\n",
       "    <tr>\n",
       "      <th>Private room</th>\n",
       "      <td>51</td>\n",
       "    </tr>\n",
       "    <tr>\n",
       "      <th rowspan=\"3\" valign=\"top\">Miguel Hidalgo</th>\n",
       "      <th>Entire home/apt</th>\n",
       "      <td>1440</td>\n",
       "    </tr>\n",
       "    <tr>\n",
       "      <th>Private room</th>\n",
       "      <td>822</td>\n",
       "    </tr>\n",
       "    <tr>\n",
       "      <th>Shared room</th>\n",
       "      <td>19</td>\n",
       "    </tr>\n",
       "    <tr>\n",
       "      <th rowspan=\"2\" valign=\"top\">Milpa Alta</th>\n",
       "      <th>Entire home/apt</th>\n",
       "      <td>3</td>\n",
       "    </tr>\n",
       "    <tr>\n",
       "      <th>Private room</th>\n",
       "      <td>2</td>\n",
       "    </tr>\n",
       "    <tr>\n",
       "      <th rowspan=\"3\" valign=\"top\">Tlalpan</th>\n",
       "      <th>Entire home/apt</th>\n",
       "      <td>174</td>\n",
       "    </tr>\n",
       "    <tr>\n",
       "      <th>Private room</th>\n",
       "      <td>321</td>\n",
       "    </tr>\n",
       "    <tr>\n",
       "      <th>Shared room</th>\n",
       "      <td>9</td>\n",
       "    </tr>\n",
       "    <tr>\n",
       "      <th rowspan=\"3\" valign=\"top\">Tláhuac</th>\n",
       "      <th>Entire home/apt</th>\n",
       "      <td>6</td>\n",
       "    </tr>\n",
       "    <tr>\n",
       "      <th>Private room</th>\n",
       "      <td>8</td>\n",
       "    </tr>\n",
       "    <tr>\n",
       "      <th>Shared room</th>\n",
       "      <td>1</td>\n",
       "    </tr>\n",
       "    <tr>\n",
       "      <th rowspan=\"3\" valign=\"top\">Venustiano Carranza</th>\n",
       "      <th>Entire home/apt</th>\n",
       "      <td>123</td>\n",
       "    </tr>\n",
       "    <tr>\n",
       "      <th>Private room</th>\n",
       "      <td>127</td>\n",
       "    </tr>\n",
       "    <tr>\n",
       "      <th>Shared room</th>\n",
       "      <td>11</td>\n",
       "    </tr>\n",
       "    <tr>\n",
       "      <th rowspan=\"2\" valign=\"top\">Xochimilco</th>\n",
       "      <th>Entire home/apt</th>\n",
       "      <td>22</td>\n",
       "    </tr>\n",
       "    <tr>\n",
       "      <th>Private room</th>\n",
       "      <td>30</td>\n",
       "    </tr>\n",
       "    <tr>\n",
       "      <th rowspan=\"3\" valign=\"top\">Álvaro Obregón</th>\n",
       "      <th>Entire home/apt</th>\n",
       "      <td>272</td>\n",
       "    </tr>\n",
       "    <tr>\n",
       "      <th>Private room</th>\n",
       "      <td>314</td>\n",
       "    </tr>\n",
       "    <tr>\n",
       "      <th>Shared room</th>\n",
       "      <td>3</td>\n",
       "    </tr>\n",
       "  </tbody>\n",
       "</table>\n",
       "</div>"
      ],
      "text/plain": [
       "                                          ID\n",
       "DELEGACION             TIPO_HABITACION      \n",
       "Azcapotzalco           Entire home/apt    47\n",
       "                       Private room       83\n",
       "                       Shared room         2\n",
       "Benito Juárez          Entire home/apt  1022\n",
       "                       Private room     1176\n",
       "                       Shared room        23\n",
       "Coyoacán               Entire home/apt   434\n",
       "                       Private room      719\n",
       "                       Shared room        23\n",
       "Cuajimalpa de Morelos  Entire home/apt   162\n",
       "                       Private room      119\n",
       "                       Shared room         3\n",
       "Cuauhtémoc             Entire home/apt  3781\n",
       "                       Private room     2231\n",
       "                       Shared room        80\n",
       "Gustavo A. Madero      Entire home/apt    56\n",
       "                       Private room      120\n",
       "                       Shared room         5\n",
       "Iztacalco              Entire home/apt    78\n",
       "                       Private room       83\n",
       "                       Shared room         8\n",
       "Iztapalapa             Entire home/apt    28\n",
       "                       Private room       74\n",
       "                       Shared room         3\n",
       "La Magdalena Contreras Entire home/apt    36\n",
       "                       Private room       51\n",
       "Miguel Hidalgo         Entire home/apt  1440\n",
       "                       Private room      822\n",
       "                       Shared room        19\n",
       "Milpa Alta             Entire home/apt     3\n",
       "                       Private room        2\n",
       "Tlalpan                Entire home/apt   174\n",
       "                       Private room      321\n",
       "                       Shared room         9\n",
       "Tláhuac                Entire home/apt     6\n",
       "                       Private room        8\n",
       "                       Shared room         1\n",
       "Venustiano Carranza    Entire home/apt   123\n",
       "                       Private room      127\n",
       "                       Shared room        11\n",
       "Xochimilco             Entire home/apt    22\n",
       "                       Private room       30\n",
       "Álvaro Obregón        Entire home/apt   272\n",
       "                       Private room      314\n",
       "                       Shared room         3"
      ]
     },
     "execution_count": 31,
     "metadata": {},
     "output_type": "execute_result"
    }
   ],
   "source": [
    "df[[\"ID\",\"DELEGACION\", \"TIPO_HABITACION\"]].groupby([\"DELEGACION\", \"TIPO_HABITACION\"]).count()"
   ]
  },
  {
   "cell_type": "code",
   "execution_count": 82,
   "metadata": {},
   "outputs": [
    {
     "data": {
      "text/html": [
       "<div>\n",
       "<style scoped>\n",
       "    .dataframe tbody tr th:only-of-type {\n",
       "        vertical-align: middle;\n",
       "    }\n",
       "\n",
       "    .dataframe tbody tr th {\n",
       "        vertical-align: top;\n",
       "    }\n",
       "\n",
       "    .dataframe thead th {\n",
       "        text-align: right;\n",
       "    }\n",
       "</style>\n",
       "<table border=\"1\" class=\"dataframe\">\n",
       "  <thead>\n",
       "    <tr style=\"text-align: right;\">\n",
       "      <th></th>\n",
       "      <th></th>\n",
       "      <th>N_COMENTARIOS</th>\n",
       "      <th>COMENTARIOSXMES</th>\n",
       "    </tr>\n",
       "    <tr>\n",
       "      <th>DELEGACION</th>\n",
       "      <th>TIPO_HABITACION</th>\n",
       "      <th></th>\n",
       "      <th></th>\n",
       "    </tr>\n",
       "  </thead>\n",
       "  <tbody>\n",
       "    <tr>\n",
       "      <th rowspan=\"3\" valign=\"top\">Azcapotzalco</th>\n",
       "      <th>Entire home/apt</th>\n",
       "      <td>47</td>\n",
       "      <td>47</td>\n",
       "    </tr>\n",
       "    <tr>\n",
       "      <th>Private room</th>\n",
       "      <td>83</td>\n",
       "      <td>83</td>\n",
       "    </tr>\n",
       "    <tr>\n",
       "      <th>Shared room</th>\n",
       "      <td>2</td>\n",
       "      <td>2</td>\n",
       "    </tr>\n",
       "    <tr>\n",
       "      <th rowspan=\"3\" valign=\"top\">Benito Juárez</th>\n",
       "      <th>Entire home/apt</th>\n",
       "      <td>1022</td>\n",
       "      <td>1022</td>\n",
       "    </tr>\n",
       "    <tr>\n",
       "      <th>Private room</th>\n",
       "      <td>1176</td>\n",
       "      <td>1176</td>\n",
       "    </tr>\n",
       "    <tr>\n",
       "      <th>Shared room</th>\n",
       "      <td>23</td>\n",
       "      <td>23</td>\n",
       "    </tr>\n",
       "    <tr>\n",
       "      <th rowspan=\"3\" valign=\"top\">Coyoacán</th>\n",
       "      <th>Entire home/apt</th>\n",
       "      <td>434</td>\n",
       "      <td>434</td>\n",
       "    </tr>\n",
       "    <tr>\n",
       "      <th>Private room</th>\n",
       "      <td>719</td>\n",
       "      <td>719</td>\n",
       "    </tr>\n",
       "    <tr>\n",
       "      <th>Shared room</th>\n",
       "      <td>23</td>\n",
       "      <td>23</td>\n",
       "    </tr>\n",
       "    <tr>\n",
       "      <th rowspan=\"3\" valign=\"top\">Cuajimalpa de Morelos</th>\n",
       "      <th>Entire home/apt</th>\n",
       "      <td>162</td>\n",
       "      <td>162</td>\n",
       "    </tr>\n",
       "    <tr>\n",
       "      <th>Private room</th>\n",
       "      <td>119</td>\n",
       "      <td>119</td>\n",
       "    </tr>\n",
       "    <tr>\n",
       "      <th>Shared room</th>\n",
       "      <td>3</td>\n",
       "      <td>3</td>\n",
       "    </tr>\n",
       "    <tr>\n",
       "      <th rowspan=\"3\" valign=\"top\">Cuauhtémoc</th>\n",
       "      <th>Entire home/apt</th>\n",
       "      <td>3781</td>\n",
       "      <td>3781</td>\n",
       "    </tr>\n",
       "    <tr>\n",
       "      <th>Private room</th>\n",
       "      <td>2231</td>\n",
       "      <td>2231</td>\n",
       "    </tr>\n",
       "    <tr>\n",
       "      <th>Shared room</th>\n",
       "      <td>80</td>\n",
       "      <td>80</td>\n",
       "    </tr>\n",
       "    <tr>\n",
       "      <th rowspan=\"3\" valign=\"top\">Gustavo A. Madero</th>\n",
       "      <th>Entire home/apt</th>\n",
       "      <td>56</td>\n",
       "      <td>56</td>\n",
       "    </tr>\n",
       "    <tr>\n",
       "      <th>Private room</th>\n",
       "      <td>120</td>\n",
       "      <td>120</td>\n",
       "    </tr>\n",
       "    <tr>\n",
       "      <th>Shared room</th>\n",
       "      <td>5</td>\n",
       "      <td>5</td>\n",
       "    </tr>\n",
       "    <tr>\n",
       "      <th rowspan=\"3\" valign=\"top\">Iztacalco</th>\n",
       "      <th>Entire home/apt</th>\n",
       "      <td>78</td>\n",
       "      <td>78</td>\n",
       "    </tr>\n",
       "    <tr>\n",
       "      <th>Private room</th>\n",
       "      <td>83</td>\n",
       "      <td>83</td>\n",
       "    </tr>\n",
       "    <tr>\n",
       "      <th>Shared room</th>\n",
       "      <td>8</td>\n",
       "      <td>8</td>\n",
       "    </tr>\n",
       "    <tr>\n",
       "      <th rowspan=\"3\" valign=\"top\">Iztapalapa</th>\n",
       "      <th>Entire home/apt</th>\n",
       "      <td>28</td>\n",
       "      <td>28</td>\n",
       "    </tr>\n",
       "    <tr>\n",
       "      <th>Private room</th>\n",
       "      <td>74</td>\n",
       "      <td>74</td>\n",
       "    </tr>\n",
       "    <tr>\n",
       "      <th>Shared room</th>\n",
       "      <td>3</td>\n",
       "      <td>3</td>\n",
       "    </tr>\n",
       "    <tr>\n",
       "      <th rowspan=\"2\" valign=\"top\">La Magdalena Contreras</th>\n",
       "      <th>Entire home/apt</th>\n",
       "      <td>36</td>\n",
       "      <td>36</td>\n",
       "    </tr>\n",
       "    <tr>\n",
       "      <th>Private room</th>\n",
       "      <td>51</td>\n",
       "      <td>51</td>\n",
       "    </tr>\n",
       "    <tr>\n",
       "      <th rowspan=\"3\" valign=\"top\">Miguel Hidalgo</th>\n",
       "      <th>Entire home/apt</th>\n",
       "      <td>1440</td>\n",
       "      <td>1440</td>\n",
       "    </tr>\n",
       "    <tr>\n",
       "      <th>Private room</th>\n",
       "      <td>822</td>\n",
       "      <td>822</td>\n",
       "    </tr>\n",
       "    <tr>\n",
       "      <th>Shared room</th>\n",
       "      <td>19</td>\n",
       "      <td>19</td>\n",
       "    </tr>\n",
       "    <tr>\n",
       "      <th rowspan=\"2\" valign=\"top\">Milpa Alta</th>\n",
       "      <th>Entire home/apt</th>\n",
       "      <td>3</td>\n",
       "      <td>3</td>\n",
       "    </tr>\n",
       "    <tr>\n",
       "      <th>Private room</th>\n",
       "      <td>2</td>\n",
       "      <td>2</td>\n",
       "    </tr>\n",
       "    <tr>\n",
       "      <th rowspan=\"3\" valign=\"top\">Tlalpan</th>\n",
       "      <th>Entire home/apt</th>\n",
       "      <td>174</td>\n",
       "      <td>174</td>\n",
       "    </tr>\n",
       "    <tr>\n",
       "      <th>Private room</th>\n",
       "      <td>321</td>\n",
       "      <td>321</td>\n",
       "    </tr>\n",
       "    <tr>\n",
       "      <th>Shared room</th>\n",
       "      <td>9</td>\n",
       "      <td>9</td>\n",
       "    </tr>\n",
       "    <tr>\n",
       "      <th rowspan=\"3\" valign=\"top\">Tláhuac</th>\n",
       "      <th>Entire home/apt</th>\n",
       "      <td>6</td>\n",
       "      <td>6</td>\n",
       "    </tr>\n",
       "    <tr>\n",
       "      <th>Private room</th>\n",
       "      <td>8</td>\n",
       "      <td>8</td>\n",
       "    </tr>\n",
       "    <tr>\n",
       "      <th>Shared room</th>\n",
       "      <td>1</td>\n",
       "      <td>1</td>\n",
       "    </tr>\n",
       "    <tr>\n",
       "      <th rowspan=\"3\" valign=\"top\">Venustiano Carranza</th>\n",
       "      <th>Entire home/apt</th>\n",
       "      <td>123</td>\n",
       "      <td>123</td>\n",
       "    </tr>\n",
       "    <tr>\n",
       "      <th>Private room</th>\n",
       "      <td>127</td>\n",
       "      <td>127</td>\n",
       "    </tr>\n",
       "    <tr>\n",
       "      <th>Shared room</th>\n",
       "      <td>11</td>\n",
       "      <td>11</td>\n",
       "    </tr>\n",
       "    <tr>\n",
       "      <th rowspan=\"2\" valign=\"top\">Xochimilco</th>\n",
       "      <th>Entire home/apt</th>\n",
       "      <td>22</td>\n",
       "      <td>22</td>\n",
       "    </tr>\n",
       "    <tr>\n",
       "      <th>Private room</th>\n",
       "      <td>30</td>\n",
       "      <td>30</td>\n",
       "    </tr>\n",
       "    <tr>\n",
       "      <th rowspan=\"3\" valign=\"top\">Álvaro Obregón</th>\n",
       "      <th>Entire home/apt</th>\n",
       "      <td>272</td>\n",
       "      <td>272</td>\n",
       "    </tr>\n",
       "    <tr>\n",
       "      <th>Private room</th>\n",
       "      <td>314</td>\n",
       "      <td>314</td>\n",
       "    </tr>\n",
       "    <tr>\n",
       "      <th>Shared room</th>\n",
       "      <td>3</td>\n",
       "      <td>3</td>\n",
       "    </tr>\n",
       "  </tbody>\n",
       "</table>\n",
       "</div>"
      ],
      "text/plain": [
       "                                        N_COMENTARIOS  COMENTARIOSXMES\n",
       "DELEGACION             TIPO_HABITACION                                \n",
       "Azcapotzalco           Entire home/apt             47               47\n",
       "                       Private room                83               83\n",
       "                       Shared room                  2                2\n",
       "Benito Juárez          Entire home/apt           1022             1022\n",
       "                       Private room              1176             1176\n",
       "                       Shared room                 23               23\n",
       "Coyoacán               Entire home/apt            434              434\n",
       "                       Private room               719              719\n",
       "                       Shared room                 23               23\n",
       "Cuajimalpa de Morelos  Entire home/apt            162              162\n",
       "                       Private room               119              119\n",
       "                       Shared room                  3                3\n",
       "Cuauhtémoc             Entire home/apt           3781             3781\n",
       "                       Private room              2231             2231\n",
       "                       Shared room                 80               80\n",
       "Gustavo A. Madero      Entire home/apt             56               56\n",
       "                       Private room               120              120\n",
       "                       Shared room                  5                5\n",
       "Iztacalco              Entire home/apt             78               78\n",
       "                       Private room                83               83\n",
       "                       Shared room                  8                8\n",
       "Iztapalapa             Entire home/apt             28               28\n",
       "                       Private room                74               74\n",
       "                       Shared room                  3                3\n",
       "La Magdalena Contreras Entire home/apt             36               36\n",
       "                       Private room                51               51\n",
       "Miguel Hidalgo         Entire home/apt           1440             1440\n",
       "                       Private room               822              822\n",
       "                       Shared room                 19               19\n",
       "Milpa Alta             Entire home/apt              3                3\n",
       "                       Private room                 2                2\n",
       "Tlalpan                Entire home/apt            174              174\n",
       "                       Private room               321              321\n",
       "                       Shared room                  9                9\n",
       "Tláhuac                Entire home/apt              6                6\n",
       "                       Private room                 8                8\n",
       "                       Shared room                  1                1\n",
       "Venustiano Carranza    Entire home/apt            123              123\n",
       "                       Private room               127              127\n",
       "                       Shared room                 11               11\n",
       "Xochimilco             Entire home/apt             22               22\n",
       "                       Private room                30               30\n",
       "Álvaro Obregón        Entire home/apt            272              272\n",
       "                       Private room               314              314\n",
       "                       Shared room                  3                3"
      ]
     },
     "execution_count": 82,
     "metadata": {},
     "output_type": "execute_result"
    }
   ],
   "source": [
    "#df.groupby([\"DELEGACION\", \"TIPO_HABITACION\"])[[\"N_COMENTARIOS\", \"COMENTARIOSXMES\"]].count()"
   ]
  },
  {
   "cell_type": "code",
   "execution_count": null,
   "metadata": {},
   "outputs": [],
   "source": []
  },
  {
   "cell_type": "markdown",
   "metadata": {},
   "source": [
    "## 3.- Data Preparation"
   ]
  },
  {
   "cell_type": "code",
   "execution_count": 33,
   "metadata": {},
   "outputs": [
    {
     "data": {
      "text/html": [
       "<div>\n",
       "<style scoped>\n",
       "    .dataframe tbody tr th:only-of-type {\n",
       "        vertical-align: middle;\n",
       "    }\n",
       "\n",
       "    .dataframe tbody tr th {\n",
       "        vertical-align: top;\n",
       "    }\n",
       "\n",
       "    .dataframe thead th {\n",
       "        text-align: right;\n",
       "    }\n",
       "</style>\n",
       "<table border=\"1\" class=\"dataframe\">\n",
       "  <thead>\n",
       "    <tr style=\"text-align: right;\">\n",
       "      <th></th>\n",
       "      <th>PRECIO</th>\n",
       "      <th>MIN_NOCHES</th>\n",
       "      <th>N_COMENTARIOS</th>\n",
       "      <th>COMENTARIOSXMES</th>\n",
       "      <th>N_VECES_HOST_LISTADO</th>\n",
       "      <th>DISPONIBILIDAD</th>\n",
       "    </tr>\n",
       "  </thead>\n",
       "  <tbody>\n",
       "    <tr>\n",
       "      <th>1</th>\n",
       "      <td>1969</td>\n",
       "      <td>1</td>\n",
       "      <td>57</td>\n",
       "      <td>0.52</td>\n",
       "      <td>9</td>\n",
       "      <td>355</td>\n",
       "    </tr>\n",
       "    <tr>\n",
       "      <th>4</th>\n",
       "      <td>1893</td>\n",
       "      <td>1</td>\n",
       "      <td>39</td>\n",
       "      <td>0.42</td>\n",
       "      <td>10</td>\n",
       "      <td>334</td>\n",
       "    </tr>\n",
       "    <tr>\n",
       "      <th>5</th>\n",
       "      <td>1625</td>\n",
       "      <td>3</td>\n",
       "      <td>39</td>\n",
       "      <td>0.43</td>\n",
       "      <td>1</td>\n",
       "      <td>178</td>\n",
       "    </tr>\n",
       "    <tr>\n",
       "      <th>6</th>\n",
       "      <td>956</td>\n",
       "      <td>2</td>\n",
       "      <td>51</td>\n",
       "      <td>2.55</td>\n",
       "      <td>3</td>\n",
       "      <td>180</td>\n",
       "    </tr>\n",
       "    <tr>\n",
       "      <th>7</th>\n",
       "      <td>1816</td>\n",
       "      <td>2</td>\n",
       "      <td>39</td>\n",
       "      <td>0.42</td>\n",
       "      <td>3</td>\n",
       "      <td>361</td>\n",
       "    </tr>\n",
       "  </tbody>\n",
       "</table>\n",
       "</div>"
      ],
      "text/plain": [
       "   PRECIO  MIN_NOCHES  N_COMENTARIOS  COMENTARIOSXMES  N_VECES_HOST_LISTADO  \\\n",
       "1    1969           1             57             0.52                     9   \n",
       "4    1893           1             39             0.42                    10   \n",
       "5    1625           3             39             0.43                     1   \n",
       "6     956           2             51             2.55                     3   \n",
       "7    1816           2             39             0.42                     3   \n",
       "\n",
       "   DISPONIBILIDAD  \n",
       "1             355  \n",
       "4             334  \n",
       "5             178  \n",
       "6             180  \n",
       "7             361  "
      ]
     },
     "execution_count": 33,
     "metadata": {},
     "output_type": "execute_result"
    }
   ],
   "source": [
    "df_num = df[[\"PRECIO\",\"MIN_NOCHES\",\"N_COMENTARIOS\",\"COMENTARIOSXMES\",\"N_VECES_HOST_LISTADO\",\"DISPONIBILIDAD\"]]\n",
    "df_num.head()"
   ]
  },
  {
   "cell_type": "code",
   "execution_count": 34,
   "metadata": {},
   "outputs": [
    {
     "data": {
      "text/html": [
       "<div>\n",
       "<style scoped>\n",
       "    .dataframe tbody tr th:only-of-type {\n",
       "        vertical-align: middle;\n",
       "    }\n",
       "\n",
       "    .dataframe tbody tr th {\n",
       "        vertical-align: top;\n",
       "    }\n",
       "\n",
       "    .dataframe thead th {\n",
       "        text-align: right;\n",
       "    }\n",
       "</style>\n",
       "<table border=\"1\" class=\"dataframe\">\n",
       "  <thead>\n",
       "    <tr style=\"text-align: right;\">\n",
       "      <th></th>\n",
       "      <th>DELEGACION</th>\n",
       "      <th>TIPO_HABITACION</th>\n",
       "      <th>ULTIMO_COMENTARIO</th>\n",
       "    </tr>\n",
       "  </thead>\n",
       "  <tbody>\n",
       "    <tr>\n",
       "      <th>1</th>\n",
       "      <td>Cuauhtémoc</td>\n",
       "      <td>Private room</td>\n",
       "      <td>27/05/2019</td>\n",
       "    </tr>\n",
       "    <tr>\n",
       "      <th>4</th>\n",
       "      <td>Cuauhtémoc</td>\n",
       "      <td>Private room</td>\n",
       "      <td>02/05/2019</td>\n",
       "    </tr>\n",
       "    <tr>\n",
       "      <th>5</th>\n",
       "      <td>Cuauhtémoc</td>\n",
       "      <td>Entire home/apt</td>\n",
       "      <td>28/05/2019</td>\n",
       "    </tr>\n",
       "    <tr>\n",
       "      <th>6</th>\n",
       "      <td>Cuauhtémoc</td>\n",
       "      <td>Private room</td>\n",
       "      <td>05/04/2019</td>\n",
       "    </tr>\n",
       "    <tr>\n",
       "      <th>7</th>\n",
       "      <td>Cuauhtémoc</td>\n",
       "      <td>Entire home/apt</td>\n",
       "      <td>24/02/2019</td>\n",
       "    </tr>\n",
       "  </tbody>\n",
       "</table>\n",
       "</div>"
      ],
      "text/plain": [
       "   DELEGACION  TIPO_HABITACION ULTIMO_COMENTARIO\n",
       "1  Cuauhtémoc     Private room        27/05/2019\n",
       "4  Cuauhtémoc     Private room        02/05/2019\n",
       "5  Cuauhtémoc  Entire home/apt        28/05/2019\n",
       "6  Cuauhtémoc     Private room        05/04/2019\n",
       "7  Cuauhtémoc  Entire home/apt        24/02/2019"
      ]
     },
     "execution_count": 34,
     "metadata": {},
     "output_type": "execute_result"
    }
   ],
   "source": [
    "df_cat = df[[\"DELEGACION\",\"TIPO_HABITACION\",\"ULTIMO_COMENTARIO\"]]\n",
    "df_cat.head()"
   ]
  },
  {
   "cell_type": "markdown",
   "metadata": {},
   "source": [
    "df para el Clúster"
   ]
  },
  {
   "cell_type": "code",
   "execution_count": 42,
   "metadata": {},
   "outputs": [
    {
     "data": {
      "text/html": [
       "<div>\n",
       "<style scoped>\n",
       "    .dataframe tbody tr th:only-of-type {\n",
       "        vertical-align: middle;\n",
       "    }\n",
       "\n",
       "    .dataframe tbody tr th {\n",
       "        vertical-align: top;\n",
       "    }\n",
       "\n",
       "    .dataframe thead th {\n",
       "        text-align: right;\n",
       "    }\n",
       "</style>\n",
       "<table border=\"1\" class=\"dataframe\">\n",
       "  <thead>\n",
       "    <tr style=\"text-align: right;\">\n",
       "      <th></th>\n",
       "      <th>TIPO_HABITACION</th>\n",
       "      <th>PRECIO</th>\n",
       "      <th>MIN_NOCHES</th>\n",
       "      <th>N_COMENTARIOS</th>\n",
       "      <th>COMENTARIOSXMES</th>\n",
       "      <th>N_VECES_HOST_LISTADO</th>\n",
       "      <th>DISPONIBILIDAD</th>\n",
       "    </tr>\n",
       "  </thead>\n",
       "  <tbody>\n",
       "    <tr>\n",
       "      <th>1</th>\n",
       "      <td>Private room</td>\n",
       "      <td>1969</td>\n",
       "      <td>1</td>\n",
       "      <td>57</td>\n",
       "      <td>0.52</td>\n",
       "      <td>9</td>\n",
       "      <td>355</td>\n",
       "    </tr>\n",
       "    <tr>\n",
       "      <th>4</th>\n",
       "      <td>Private room</td>\n",
       "      <td>1893</td>\n",
       "      <td>1</td>\n",
       "      <td>39</td>\n",
       "      <td>0.42</td>\n",
       "      <td>10</td>\n",
       "      <td>334</td>\n",
       "    </tr>\n",
       "    <tr>\n",
       "      <th>5</th>\n",
       "      <td>Entire home/apt</td>\n",
       "      <td>1625</td>\n",
       "      <td>3</td>\n",
       "      <td>39</td>\n",
       "      <td>0.43</td>\n",
       "      <td>1</td>\n",
       "      <td>178</td>\n",
       "    </tr>\n",
       "    <tr>\n",
       "      <th>6</th>\n",
       "      <td>Private room</td>\n",
       "      <td>956</td>\n",
       "      <td>2</td>\n",
       "      <td>51</td>\n",
       "      <td>2.55</td>\n",
       "      <td>3</td>\n",
       "      <td>180</td>\n",
       "    </tr>\n",
       "    <tr>\n",
       "      <th>7</th>\n",
       "      <td>Entire home/apt</td>\n",
       "      <td>1816</td>\n",
       "      <td>2</td>\n",
       "      <td>39</td>\n",
       "      <td>0.42</td>\n",
       "      <td>3</td>\n",
       "      <td>361</td>\n",
       "    </tr>\n",
       "  </tbody>\n",
       "</table>\n",
       "</div>"
      ],
      "text/plain": [
       "   TIPO_HABITACION  PRECIO  MIN_NOCHES  N_COMENTARIOS  COMENTARIOSXMES  \\\n",
       "1     Private room    1969           1             57             0.52   \n",
       "4     Private room    1893           1             39             0.42   \n",
       "5  Entire home/apt    1625           3             39             0.43   \n",
       "6     Private room     956           2             51             2.55   \n",
       "7  Entire home/apt    1816           2             39             0.42   \n",
       "\n",
       "   N_VECES_HOST_LISTADO  DISPONIBILIDAD  \n",
       "1                     9             355  \n",
       "4                    10             334  \n",
       "5                     1             178  \n",
       "6                     3             180  \n",
       "7                     3             361  "
      ]
     },
     "execution_count": 42,
     "metadata": {},
     "output_type": "execute_result"
    }
   ],
   "source": [
    "df_clus = df[[\"TIPO_HABITACION\",\"PRECIO\",\"MIN_NOCHES\",\"N_COMENTARIOS\",\"COMENTARIOSXMES\",\"N_VECES_HOST_LISTADO\",\"DISPONIBILIDAD\"]]\n",
    "df_clus.head()"
   ]
  },
  {
   "cell_type": "markdown",
   "metadata": {},
   "source": [
    "df para el Regreseión"
   ]
  },
  {
   "cell_type": "markdown",
   "metadata": {},
   "source": [
    "df para el Clasificación"
   ]
  },
  {
   "cell_type": "markdown",
   "metadata": {},
   "source": [
    "## 4.- Modeling "
   ]
  },
  {
   "cell_type": "markdown",
   "metadata": {},
   "source": [
    "### 4.1 Clusterización "
   ]
  },
  {
   "cell_type": "markdown",
   "metadata": {},
   "source": [
    "Normalización"
   ]
  },
  {
   "cell_type": "code",
   "execution_count": 46,
   "metadata": {},
   "outputs": [
    {
     "data": {
      "text/plain": [
       "array([[1969, 1, 57, 0.52, 9, 355],\n",
       "       [1893, 1, 39, 0.42, 10, 334],\n",
       "       [1625, 3, 39, 0.43, 1, 178],\n",
       "       ...,\n",
       "       [497, 2, 1, 1.0, 1, 66],\n",
       "       [478, 1, 1, 1.0, 2, 315],\n",
       "       [746, 1, 2, 2.0, 2, 363]], dtype=object)"
      ]
     },
     "execution_count": 46,
     "metadata": {},
     "output_type": "execute_result"
    }
   ],
   "source": [
    "X = df_clus.values[:,1:]\n",
    "X = np.nan_to_num(X)\n",
    "Clus_dataSet = StandardScaler().fit_transform(X)\n",
    "X"
   ]
  },
  {
   "cell_type": "code",
   "execution_count": 47,
   "metadata": {},
   "outputs": [
    {
     "data": {
      "text/plain": [
       "array([[ 0.36518528, -0.11305169,  0.76450096, -0.66749998,  0.6948727 ,\n",
       "         1.07555205],\n",
       "       [ 0.33468847, -0.11305169,  0.30757699, -0.72418171,  0.84067266,\n",
       "         0.91516503],\n",
       "       [ 0.22714708,  0.03015622,  0.30757699, -0.71851354, -0.47152701,\n",
       "        -0.27628146],\n",
       "       ...,\n",
       "       [-0.22548982, -0.04144773, -0.65704028, -0.39542771, -0.47152701,\n",
       "        -1.13167893],\n",
       "       [-0.23311402, -0.11305169, -0.65704028, -0.39542771, -0.32572705,\n",
       "         0.77005295],\n",
       "       [-0.12557263, -0.11305169, -0.63165562,  0.17138953, -0.32572705,\n",
       "         1.13665187]])"
      ]
     },
     "execution_count": 47,
     "metadata": {},
     "output_type": "execute_result"
    }
   ],
   "source": [
    "Clus_dataSet"
   ]
  },
  {
   "cell_type": "code",
   "execution_count": 91,
   "metadata": {},
   "outputs": [],
   "source": [
    "clusterNum = 5\n",
    "k_means = KMeans(init = \"k-means++\", n_clusters = clusterNum, n_init = 12)\n",
    "k_means.fit(X)\n",
    "labels = k_means.labels_"
   ]
  },
  {
   "cell_type": "code",
   "execution_count": 92,
   "metadata": {},
   "outputs": [
    {
     "name": "stderr",
     "output_type": "stream",
     "text": [
      "<ipython-input-92-d926f49481f3>:1: SettingWithCopyWarning: \n",
      "A value is trying to be set on a copy of a slice from a DataFrame.\n",
      "Try using .loc[row_indexer,col_indexer] = value instead\n",
      "\n",
      "See the caveats in the documentation: https://pandas.pydata.org/pandas-docs/stable/user_guide/indexing.html#returning-a-view-versus-a-copy\n",
      "  df_clus[\"Clus_km\"] = labels\n"
     ]
    },
    {
     "data": {
      "text/html": [
       "<div>\n",
       "<style scoped>\n",
       "    .dataframe tbody tr th:only-of-type {\n",
       "        vertical-align: middle;\n",
       "    }\n",
       "\n",
       "    .dataframe tbody tr th {\n",
       "        vertical-align: top;\n",
       "    }\n",
       "\n",
       "    .dataframe thead th {\n",
       "        text-align: right;\n",
       "    }\n",
       "</style>\n",
       "<table border=\"1\" class=\"dataframe\">\n",
       "  <thead>\n",
       "    <tr style=\"text-align: right;\">\n",
       "      <th></th>\n",
       "      <th>TIPO_HABITACION</th>\n",
       "      <th>PRECIO</th>\n",
       "      <th>MIN_NOCHES</th>\n",
       "      <th>N_COMENTARIOS</th>\n",
       "      <th>COMENTARIOSXMES</th>\n",
       "      <th>N_VECES_HOST_LISTADO</th>\n",
       "      <th>DISPONIBILIDAD</th>\n",
       "      <th>Clus_km</th>\n",
       "    </tr>\n",
       "  </thead>\n",
       "  <tbody>\n",
       "    <tr>\n",
       "      <th>92</th>\n",
       "      <td>Entire home/apt</td>\n",
       "      <td>1204</td>\n",
       "      <td>1</td>\n",
       "      <td>2</td>\n",
       "      <td>0.04</td>\n",
       "      <td>1</td>\n",
       "      <td>114</td>\n",
       "      <td>0</td>\n",
       "    </tr>\n",
       "    <tr>\n",
       "      <th>93</th>\n",
       "      <td>Private room</td>\n",
       "      <td>191</td>\n",
       "      <td>7</td>\n",
       "      <td>21</td>\n",
       "      <td>0.44</td>\n",
       "      <td>1</td>\n",
       "      <td>362</td>\n",
       "      <td>0</td>\n",
       "    </tr>\n",
       "    <tr>\n",
       "      <th>94</th>\n",
       "      <td>Entire home/apt</td>\n",
       "      <td>2504</td>\n",
       "      <td>1</td>\n",
       "      <td>1</td>\n",
       "      <td>0.22</td>\n",
       "      <td>10</td>\n",
       "      <td>341</td>\n",
       "      <td>2</td>\n",
       "    </tr>\n",
       "    <tr>\n",
       "      <th>95</th>\n",
       "      <td>Private room</td>\n",
       "      <td>401</td>\n",
       "      <td>5</td>\n",
       "      <td>8</td>\n",
       "      <td>0.11</td>\n",
       "      <td>3</td>\n",
       "      <td>0</td>\n",
       "      <td>0</td>\n",
       "    </tr>\n",
       "    <tr>\n",
       "      <th>96</th>\n",
       "      <td>Entire home/apt</td>\n",
       "      <td>1644</td>\n",
       "      <td>3</td>\n",
       "      <td>42</td>\n",
       "      <td>0.52</td>\n",
       "      <td>17</td>\n",
       "      <td>234</td>\n",
       "      <td>2</td>\n",
       "    </tr>\n",
       "    <tr>\n",
       "      <th>98</th>\n",
       "      <td>Private room</td>\n",
       "      <td>382</td>\n",
       "      <td>3</td>\n",
       "      <td>6</td>\n",
       "      <td>0.09</td>\n",
       "      <td>1</td>\n",
       "      <td>87</td>\n",
       "      <td>0</td>\n",
       "    </tr>\n",
       "    <tr>\n",
       "      <th>99</th>\n",
       "      <td>Private room</td>\n",
       "      <td>1109</td>\n",
       "      <td>2</td>\n",
       "      <td>28</td>\n",
       "      <td>0.36</td>\n",
       "      <td>5</td>\n",
       "      <td>296</td>\n",
       "      <td>0</td>\n",
       "    </tr>\n",
       "    <tr>\n",
       "      <th>100</th>\n",
       "      <td>Entire home/apt</td>\n",
       "      <td>478</td>\n",
       "      <td>4</td>\n",
       "      <td>11</td>\n",
       "      <td>0.21</td>\n",
       "      <td>1</td>\n",
       "      <td>327</td>\n",
       "      <td>0</td>\n",
       "    </tr>\n",
       "    <tr>\n",
       "      <th>101</th>\n",
       "      <td>Entire home/apt</td>\n",
       "      <td>4779</td>\n",
       "      <td>2</td>\n",
       "      <td>1</td>\n",
       "      <td>0.02</td>\n",
       "      <td>7</td>\n",
       "      <td>265</td>\n",
       "      <td>4</td>\n",
       "    </tr>\n",
       "    <tr>\n",
       "      <th>102</th>\n",
       "      <td>Entire home/apt</td>\n",
       "      <td>4206</td>\n",
       "      <td>3</td>\n",
       "      <td>1</td>\n",
       "      <td>0.03</td>\n",
       "      <td>7</td>\n",
       "      <td>251</td>\n",
       "      <td>2</td>\n",
       "    </tr>\n",
       "    <tr>\n",
       "      <th>103</th>\n",
       "      <td>Entire home/apt</td>\n",
       "      <td>5735</td>\n",
       "      <td>3</td>\n",
       "      <td>4</td>\n",
       "      <td>0.08</td>\n",
       "      <td>7</td>\n",
       "      <td>251</td>\n",
       "      <td>4</td>\n",
       "    </tr>\n",
       "    <tr>\n",
       "      <th>104</th>\n",
       "      <td>Entire home/apt</td>\n",
       "      <td>1893</td>\n",
       "      <td>3</td>\n",
       "      <td>159</td>\n",
       "      <td>1.90</td>\n",
       "      <td>1</td>\n",
       "      <td>353</td>\n",
       "      <td>2</td>\n",
       "    </tr>\n",
       "    <tr>\n",
       "      <th>106</th>\n",
       "      <td>Shared room</td>\n",
       "      <td>191</td>\n",
       "      <td>2</td>\n",
       "      <td>60</td>\n",
       "      <td>0.73</td>\n",
       "      <td>5</td>\n",
       "      <td>128</td>\n",
       "      <td>0</td>\n",
       "    </tr>\n",
       "    <tr>\n",
       "      <th>107</th>\n",
       "      <td>Entire home/apt</td>\n",
       "      <td>1644</td>\n",
       "      <td>3</td>\n",
       "      <td>204</td>\n",
       "      <td>2.56</td>\n",
       "      <td>1</td>\n",
       "      <td>229</td>\n",
       "      <td>2</td>\n",
       "    </tr>\n",
       "    <tr>\n",
       "      <th>108</th>\n",
       "      <td>Entire home/apt</td>\n",
       "      <td>765</td>\n",
       "      <td>1</td>\n",
       "      <td>130</td>\n",
       "      <td>1.63</td>\n",
       "      <td>2</td>\n",
       "      <td>283</td>\n",
       "      <td>0</td>\n",
       "    </tr>\n",
       "    <tr>\n",
       "      <th>109</th>\n",
       "      <td>Entire home/apt</td>\n",
       "      <td>6270</td>\n",
       "      <td>4</td>\n",
       "      <td>22</td>\n",
       "      <td>0.27</td>\n",
       "      <td>2</td>\n",
       "      <td>362</td>\n",
       "      <td>4</td>\n",
       "    </tr>\n",
       "    <tr>\n",
       "      <th>110</th>\n",
       "      <td>Entire home/apt</td>\n",
       "      <td>7628</td>\n",
       "      <td>2</td>\n",
       "      <td>79</td>\n",
       "      <td>1.00</td>\n",
       "      <td>1</td>\n",
       "      <td>164</td>\n",
       "      <td>4</td>\n",
       "    </tr>\n",
       "    <tr>\n",
       "      <th>111</th>\n",
       "      <td>Private room</td>\n",
       "      <td>440</td>\n",
       "      <td>7</td>\n",
       "      <td>10</td>\n",
       "      <td>0.12</td>\n",
       "      <td>2</td>\n",
       "      <td>363</td>\n",
       "      <td>0</td>\n",
       "    </tr>\n",
       "    <tr>\n",
       "      <th>112</th>\n",
       "      <td>Private room</td>\n",
       "      <td>554</td>\n",
       "      <td>3</td>\n",
       "      <td>1</td>\n",
       "      <td>0.03</td>\n",
       "      <td>2</td>\n",
       "      <td>296</td>\n",
       "      <td>0</td>\n",
       "    </tr>\n",
       "    <tr>\n",
       "      <th>113</th>\n",
       "      <td>Private room</td>\n",
       "      <td>554</td>\n",
       "      <td>5</td>\n",
       "      <td>1</td>\n",
       "      <td>0.01</td>\n",
       "      <td>2</td>\n",
       "      <td>296</td>\n",
       "      <td>0</td>\n",
       "    </tr>\n",
       "    <tr>\n",
       "      <th>114</th>\n",
       "      <td>Entire home/apt</td>\n",
       "      <td>1128</td>\n",
       "      <td>2</td>\n",
       "      <td>45</td>\n",
       "      <td>0.54</td>\n",
       "      <td>1</td>\n",
       "      <td>342</td>\n",
       "      <td>0</td>\n",
       "    </tr>\n",
       "    <tr>\n",
       "      <th>115</th>\n",
       "      <td>Private room</td>\n",
       "      <td>574</td>\n",
       "      <td>1</td>\n",
       "      <td>10</td>\n",
       "      <td>0.17</td>\n",
       "      <td>1</td>\n",
       "      <td>0</td>\n",
       "      <td>0</td>\n",
       "    </tr>\n",
       "    <tr>\n",
       "      <th>116</th>\n",
       "      <td>Entire home/apt</td>\n",
       "      <td>2275</td>\n",
       "      <td>1</td>\n",
       "      <td>180</td>\n",
       "      <td>2.19</td>\n",
       "      <td>2</td>\n",
       "      <td>84</td>\n",
       "      <td>2</td>\n",
       "    </tr>\n",
       "    <tr>\n",
       "      <th>117</th>\n",
       "      <td>Entire home/apt</td>\n",
       "      <td>1625</td>\n",
       "      <td>2</td>\n",
       "      <td>208</td>\n",
       "      <td>2.54</td>\n",
       "      <td>3</td>\n",
       "      <td>311</td>\n",
       "      <td>2</td>\n",
       "    </tr>\n",
       "    <tr>\n",
       "      <th>118</th>\n",
       "      <td>Entire home/apt</td>\n",
       "      <td>937</td>\n",
       "      <td>2</td>\n",
       "      <td>141</td>\n",
       "      <td>1.79</td>\n",
       "      <td>3</td>\n",
       "      <td>325</td>\n",
       "      <td>0</td>\n",
       "    </tr>\n",
       "    <tr>\n",
       "      <th>119</th>\n",
       "      <td>Entire home/apt</td>\n",
       "      <td>1491</td>\n",
       "      <td>24</td>\n",
       "      <td>35</td>\n",
       "      <td>0.43</td>\n",
       "      <td>3</td>\n",
       "      <td>257</td>\n",
       "      <td>2</td>\n",
       "    </tr>\n",
       "    <tr>\n",
       "      <th>120</th>\n",
       "      <td>Entire home/apt</td>\n",
       "      <td>937</td>\n",
       "      <td>3</td>\n",
       "      <td>34</td>\n",
       "      <td>0.44</td>\n",
       "      <td>13</td>\n",
       "      <td>10</td>\n",
       "      <td>0</td>\n",
       "    </tr>\n",
       "    <tr>\n",
       "      <th>121</th>\n",
       "      <td>Entire home/apt</td>\n",
       "      <td>937</td>\n",
       "      <td>3</td>\n",
       "      <td>29</td>\n",
       "      <td>0.36</td>\n",
       "      <td>13</td>\n",
       "      <td>10</td>\n",
       "      <td>0</td>\n",
       "    </tr>\n",
       "    <tr>\n",
       "      <th>122</th>\n",
       "      <td>Entire home/apt</td>\n",
       "      <td>1166</td>\n",
       "      <td>3</td>\n",
       "      <td>9</td>\n",
       "      <td>0.13</td>\n",
       "      <td>17</td>\n",
       "      <td>248</td>\n",
       "      <td>0</td>\n",
       "    </tr>\n",
       "    <tr>\n",
       "      <th>123</th>\n",
       "      <td>Entire home/apt</td>\n",
       "      <td>669</td>\n",
       "      <td>3</td>\n",
       "      <td>66</td>\n",
       "      <td>0.82</td>\n",
       "      <td>1</td>\n",
       "      <td>345</td>\n",
       "      <td>0</td>\n",
       "    </tr>\n",
       "  </tbody>\n",
       "</table>\n",
       "</div>"
      ],
      "text/plain": [
       "     TIPO_HABITACION  PRECIO  MIN_NOCHES  N_COMENTARIOS  COMENTARIOSXMES  \\\n",
       "92   Entire home/apt    1204           1              2             0.04   \n",
       "93      Private room     191           7             21             0.44   \n",
       "94   Entire home/apt    2504           1              1             0.22   \n",
       "95      Private room     401           5              8             0.11   \n",
       "96   Entire home/apt    1644           3             42             0.52   \n",
       "98      Private room     382           3              6             0.09   \n",
       "99      Private room    1109           2             28             0.36   \n",
       "100  Entire home/apt     478           4             11             0.21   \n",
       "101  Entire home/apt    4779           2              1             0.02   \n",
       "102  Entire home/apt    4206           3              1             0.03   \n",
       "103  Entire home/apt    5735           3              4             0.08   \n",
       "104  Entire home/apt    1893           3            159             1.90   \n",
       "106      Shared room     191           2             60             0.73   \n",
       "107  Entire home/apt    1644           3            204             2.56   \n",
       "108  Entire home/apt     765           1            130             1.63   \n",
       "109  Entire home/apt    6270           4             22             0.27   \n",
       "110  Entire home/apt    7628           2             79             1.00   \n",
       "111     Private room     440           7             10             0.12   \n",
       "112     Private room     554           3              1             0.03   \n",
       "113     Private room     554           5              1             0.01   \n",
       "114  Entire home/apt    1128           2             45             0.54   \n",
       "115     Private room     574           1             10             0.17   \n",
       "116  Entire home/apt    2275           1            180             2.19   \n",
       "117  Entire home/apt    1625           2            208             2.54   \n",
       "118  Entire home/apt     937           2            141             1.79   \n",
       "119  Entire home/apt    1491          24             35             0.43   \n",
       "120  Entire home/apt     937           3             34             0.44   \n",
       "121  Entire home/apt     937           3             29             0.36   \n",
       "122  Entire home/apt    1166           3              9             0.13   \n",
       "123  Entire home/apt     669           3             66             0.82   \n",
       "\n",
       "     N_VECES_HOST_LISTADO  DISPONIBILIDAD  Clus_km  \n",
       "92                      1             114        0  \n",
       "93                      1             362        0  \n",
       "94                     10             341        2  \n",
       "95                      3               0        0  \n",
       "96                     17             234        2  \n",
       "98                      1              87        0  \n",
       "99                      5             296        0  \n",
       "100                     1             327        0  \n",
       "101                     7             265        4  \n",
       "102                     7             251        2  \n",
       "103                     7             251        4  \n",
       "104                     1             353        2  \n",
       "106                     5             128        0  \n",
       "107                     1             229        2  \n",
       "108                     2             283        0  \n",
       "109                     2             362        4  \n",
       "110                     1             164        4  \n",
       "111                     2             363        0  \n",
       "112                     2             296        0  \n",
       "113                     2             296        0  \n",
       "114                     1             342        0  \n",
       "115                     1               0        0  \n",
       "116                     2              84        2  \n",
       "117                     3             311        2  \n",
       "118                     3             325        0  \n",
       "119                     3             257        2  \n",
       "120                    13              10        0  \n",
       "121                    13              10        0  \n",
       "122                    17             248        0  \n",
       "123                     1             345        0  "
      ]
     },
     "execution_count": 92,
     "metadata": {},
     "output_type": "execute_result"
    }
   ],
   "source": [
    "df_clus[\"Clus_km\"] = labels\n",
    "df_clus[70:100]\n"
   ]
  },
  {
   "cell_type": "code",
   "execution_count": 93,
   "metadata": {},
   "outputs": [
    {
     "data": {
      "text/plain": [
       "array([2, 0, 4, 3, 1])"
      ]
     },
     "execution_count": 93,
     "metadata": {},
     "output_type": "execute_result"
    }
   ],
   "source": [
    "df_clus[\"Clus_km\"].unique()"
   ]
  },
  {
   "cell_type": "code",
   "execution_count": 94,
   "metadata": {},
   "outputs": [
    {
     "data": {
      "text/html": [
       "<div>\n",
       "<style scoped>\n",
       "    .dataframe tbody tr th:only-of-type {\n",
       "        vertical-align: middle;\n",
       "    }\n",
       "\n",
       "    .dataframe tbody tr th {\n",
       "        vertical-align: top;\n",
       "    }\n",
       "\n",
       "    .dataframe thead tr th {\n",
       "        text-align: left;\n",
       "    }\n",
       "\n",
       "    .dataframe thead tr:last-of-type th {\n",
       "        text-align: right;\n",
       "    }\n",
       "</style>\n",
       "<table border=\"1\" class=\"dataframe\">\n",
       "  <thead>\n",
       "    <tr>\n",
       "      <th></th>\n",
       "      <th colspan=\"8\" halign=\"left\">PRECIO</th>\n",
       "      <th colspan=\"2\" halign=\"left\">MIN_NOCHES</th>\n",
       "      <th>...</th>\n",
       "      <th colspan=\"2\" halign=\"left\">N_VECES_HOST_LISTADO</th>\n",
       "      <th colspan=\"8\" halign=\"left\">DISPONIBILIDAD</th>\n",
       "    </tr>\n",
       "    <tr>\n",
       "      <th></th>\n",
       "      <th>count</th>\n",
       "      <th>mean</th>\n",
       "      <th>std</th>\n",
       "      <th>min</th>\n",
       "      <th>25%</th>\n",
       "      <th>50%</th>\n",
       "      <th>75%</th>\n",
       "      <th>max</th>\n",
       "      <th>count</th>\n",
       "      <th>mean</th>\n",
       "      <th>...</th>\n",
       "      <th>75%</th>\n",
       "      <th>max</th>\n",
       "      <th>count</th>\n",
       "      <th>mean</th>\n",
       "      <th>std</th>\n",
       "      <th>min</th>\n",
       "      <th>25%</th>\n",
       "      <th>50%</th>\n",
       "      <th>75%</th>\n",
       "      <th>max</th>\n",
       "    </tr>\n",
       "    <tr>\n",
       "      <th>Clus_km</th>\n",
       "      <th></th>\n",
       "      <th></th>\n",
       "      <th></th>\n",
       "      <th></th>\n",
       "      <th></th>\n",
       "      <th></th>\n",
       "      <th></th>\n",
       "      <th></th>\n",
       "      <th></th>\n",
       "      <th></th>\n",
       "      <th></th>\n",
       "      <th></th>\n",
       "      <th></th>\n",
       "      <th></th>\n",
       "      <th></th>\n",
       "      <th></th>\n",
       "      <th></th>\n",
       "      <th></th>\n",
       "      <th></th>\n",
       "      <th></th>\n",
       "      <th></th>\n",
       "    </tr>\n",
       "  </thead>\n",
       "  <tbody>\n",
       "    <tr>\n",
       "      <th>0</th>\n",
       "      <td>11030.0</td>\n",
       "      <td>617.585131</td>\n",
       "      <td>313.178744</td>\n",
       "      <td>0.0</td>\n",
       "      <td>344.0</td>\n",
       "      <td>554.0</td>\n",
       "      <td>860.0</td>\n",
       "      <td>1319.0</td>\n",
       "      <td>11030.0</td>\n",
       "      <td>2.677788</td>\n",
       "      <td>...</td>\n",
       "      <td>3.00</td>\n",
       "      <td>45.0</td>\n",
       "      <td>11030.0</td>\n",
       "      <td>209.078876</td>\n",
       "      <td>131.890162</td>\n",
       "      <td>0.0</td>\n",
       "      <td>87.00</td>\n",
       "      <td>182.0</td>\n",
       "      <td>346.0</td>\n",
       "      <td>365.0</td>\n",
       "    </tr>\n",
       "    <tr>\n",
       "      <th>1</th>\n",
       "      <td>2.0</td>\n",
       "      <td>172053.000000</td>\n",
       "      <td>27035.520672</td>\n",
       "      <td>152936.0</td>\n",
       "      <td>162494.5</td>\n",
       "      <td>172053.0</td>\n",
       "      <td>181611.5</td>\n",
       "      <td>191170.0</td>\n",
       "      <td>2.0</td>\n",
       "      <td>6.000000</td>\n",
       "      <td>...</td>\n",
       "      <td>3.25</td>\n",
       "      <td>4.0</td>\n",
       "      <td>2.0</td>\n",
       "      <td>267.000000</td>\n",
       "      <td>131.521861</td>\n",
       "      <td>174.0</td>\n",
       "      <td>220.50</td>\n",
       "      <td>267.0</td>\n",
       "      <td>313.5</td>\n",
       "      <td>360.0</td>\n",
       "    </tr>\n",
       "    <tr>\n",
       "      <th>2</th>\n",
       "      <td>2880.0</td>\n",
       "      <td>2028.404514</td>\n",
       "      <td>673.039939</td>\n",
       "      <td>1319.0</td>\n",
       "      <td>1491.0</td>\n",
       "      <td>1816.0</td>\n",
       "      <td>2351.0</td>\n",
       "      <td>4454.0</td>\n",
       "      <td>2880.0</td>\n",
       "      <td>2.210417</td>\n",
       "      <td>...</td>\n",
       "      <td>7.00</td>\n",
       "      <td>45.0</td>\n",
       "      <td>2880.0</td>\n",
       "      <td>230.322222</td>\n",
       "      <td>126.262251</td>\n",
       "      <td>0.0</td>\n",
       "      <td>124.75</td>\n",
       "      <td>279.5</td>\n",
       "      <td>346.0</td>\n",
       "      <td>365.0</td>\n",
       "    </tr>\n",
       "    <tr>\n",
       "      <th>3</th>\n",
       "      <td>15.0</td>\n",
       "      <td>27745.066667</td>\n",
       "      <td>10081.025709</td>\n",
       "      <td>18008.0</td>\n",
       "      <td>20894.5</td>\n",
       "      <td>25005.0</td>\n",
       "      <td>30740.0</td>\n",
       "      <td>57351.0</td>\n",
       "      <td>15.0</td>\n",
       "      <td>1.800000</td>\n",
       "      <td>...</td>\n",
       "      <td>6.50</td>\n",
       "      <td>44.0</td>\n",
       "      <td>15.0</td>\n",
       "      <td>251.600000</td>\n",
       "      <td>111.215878</td>\n",
       "      <td>58.0</td>\n",
       "      <td>171.50</td>\n",
       "      <td>285.0</td>\n",
       "      <td>355.5</td>\n",
       "      <td>365.0</td>\n",
       "    </tr>\n",
       "    <tr>\n",
       "      <th>4</th>\n",
       "      <td>227.0</td>\n",
       "      <td>6934.427313</td>\n",
       "      <td>2585.071882</td>\n",
       "      <td>4492.0</td>\n",
       "      <td>5009.0</td>\n",
       "      <td>5926.0</td>\n",
       "      <td>7895.5</td>\n",
       "      <td>17205.0</td>\n",
       "      <td>227.0</td>\n",
       "      <td>2.466960</td>\n",
       "      <td>...</td>\n",
       "      <td>16.00</td>\n",
       "      <td>44.0</td>\n",
       "      <td>227.0</td>\n",
       "      <td>253.960352</td>\n",
       "      <td>120.629482</td>\n",
       "      <td>0.0</td>\n",
       "      <td>166.50</td>\n",
       "      <td>314.0</td>\n",
       "      <td>351.0</td>\n",
       "      <td>365.0</td>\n",
       "    </tr>\n",
       "  </tbody>\n",
       "</table>\n",
       "<p>5 rows × 48 columns</p>\n",
       "</div>"
      ],
      "text/plain": [
       "          PRECIO                                                             \\\n",
       "           count           mean           std       min       25%       50%   \n",
       "Clus_km                                                                       \n",
       "0        11030.0     617.585131    313.178744       0.0     344.0     554.0   \n",
       "1            2.0  172053.000000  27035.520672  152936.0  162494.5  172053.0   \n",
       "2         2880.0    2028.404514    673.039939    1319.0    1491.0    1816.0   \n",
       "3           15.0   27745.066667  10081.025709   18008.0   20894.5   25005.0   \n",
       "4          227.0    6934.427313   2585.071882    4492.0    5009.0    5926.0   \n",
       "\n",
       "                            MIN_NOCHES            ... N_VECES_HOST_LISTADO  \\\n",
       "              75%       max      count      mean  ...                  75%   \n",
       "Clus_km                                           ...                        \n",
       "0           860.0    1319.0    11030.0  2.677788  ...                 3.00   \n",
       "1        181611.5  191170.0        2.0  6.000000  ...                 3.25   \n",
       "2          2351.0    4454.0     2880.0  2.210417  ...                 7.00   \n",
       "3         30740.0   57351.0       15.0  1.800000  ...                 6.50   \n",
       "4          7895.5   17205.0      227.0  2.466960  ...                16.00   \n",
       "\n",
       "              DISPONIBILIDAD                                                \\\n",
       "          max          count        mean         std    min     25%    50%   \n",
       "Clus_km                                                                      \n",
       "0        45.0        11030.0  209.078876  131.890162    0.0   87.00  182.0   \n",
       "1         4.0            2.0  267.000000  131.521861  174.0  220.50  267.0   \n",
       "2        45.0         2880.0  230.322222  126.262251    0.0  124.75  279.5   \n",
       "3        44.0           15.0  251.600000  111.215878   58.0  171.50  285.0   \n",
       "4        44.0          227.0  253.960352  120.629482    0.0  166.50  314.0   \n",
       "\n",
       "                       \n",
       "           75%    max  \n",
       "Clus_km                \n",
       "0        346.0  365.0  \n",
       "1        313.5  360.0  \n",
       "2        346.0  365.0  \n",
       "3        355.5  365.0  \n",
       "4        351.0  365.0  \n",
       "\n",
       "[5 rows x 48 columns]"
      ]
     },
     "execution_count": 94,
     "metadata": {},
     "output_type": "execute_result"
    }
   ],
   "source": [
    "df_clus.groupby('Clus_km').describe()"
   ]
  },
  {
   "cell_type": "code",
   "execution_count": 95,
   "metadata": {},
   "outputs": [
    {
     "ename": "TypeError",
     "evalue": "loop of ufunc does not support argument 0 of type float which has no callable sqrt method",
     "output_type": "error",
     "traceback": [
      "\u001b[1;31m---------------------------------------------------------------------------\u001b[0m",
      "\u001b[1;31mAttributeError\u001b[0m                            Traceback (most recent call last)",
      "\u001b[1;31mAttributeError\u001b[0m: 'float' object has no attribute 'sqrt'",
      "\nThe above exception was the direct cause of the following exception:\n",
      "\u001b[1;31mTypeError\u001b[0m                                 Traceback (most recent call last)",
      "\u001b[1;32m<ipython-input-95-fee2ddabe7f5>\u001b[0m in \u001b[0;36m<module>\u001b[1;34m\u001b[0m\n\u001b[0;32m      1\u001b[0m \u001b[0marea\u001b[0m \u001b[1;33m=\u001b[0m \u001b[0mnp\u001b[0m\u001b[1;33m.\u001b[0m\u001b[0mpi\u001b[0m \u001b[1;33m*\u001b[0m \u001b[1;33m(\u001b[0m \u001b[0mX\u001b[0m\u001b[1;33m[\u001b[0m\u001b[1;33m:\u001b[0m\u001b[1;33m,\u001b[0m \u001b[1;36m1\u001b[0m\u001b[1;33m]\u001b[0m\u001b[1;33m)\u001b[0m\u001b[1;33m**\u001b[0m\u001b[1;36m2\u001b[0m\u001b[1;33m\u001b[0m\u001b[1;33m\u001b[0m\u001b[0m\n\u001b[1;32m----> 2\u001b[1;33m \u001b[0mmpl\u001b[0m\u001b[1;33m.\u001b[0m\u001b[0mscatter\u001b[0m\u001b[1;33m(\u001b[0m\u001b[0mX\u001b[0m\u001b[1;33m[\u001b[0m\u001b[1;33m:\u001b[0m\u001b[1;33m,\u001b[0m \u001b[1;36m1\u001b[0m\u001b[1;33m]\u001b[0m\u001b[1;33m,\u001b[0m \u001b[0mX\u001b[0m\u001b[1;33m[\u001b[0m\u001b[1;33m:\u001b[0m\u001b[1;33m,\u001b[0m \u001b[1;36m3\u001b[0m\u001b[1;33m]\u001b[0m\u001b[1;33m,\u001b[0m \u001b[0ms\u001b[0m\u001b[1;33m=\u001b[0m\u001b[0marea\u001b[0m\u001b[1;33m,\u001b[0m \u001b[0mc\u001b[0m\u001b[1;33m=\u001b[0m\u001b[0mlabels\u001b[0m\u001b[1;33m.\u001b[0m\u001b[0mastype\u001b[0m\u001b[1;33m(\u001b[0m\u001b[0mnp\u001b[0m\u001b[1;33m.\u001b[0m\u001b[0mfloat\u001b[0m\u001b[1;33m)\u001b[0m\u001b[1;33m,\u001b[0m \u001b[0malpha\u001b[0m\u001b[1;33m=\u001b[0m\u001b[1;36m0.5\u001b[0m\u001b[1;33m)\u001b[0m\u001b[1;33m\u001b[0m\u001b[1;33m\u001b[0m\u001b[0m\n\u001b[0m\u001b[0;32m      3\u001b[0m \u001b[1;31m#mpl.xlabel('X', fontsize=18)\u001b[0m\u001b[1;33m\u001b[0m\u001b[1;33m\u001b[0m\u001b[1;33m\u001b[0m\u001b[0m\n\u001b[0;32m      4\u001b[0m \u001b[1;31m#mpl.ylabel('Y', fontsize=16)\u001b[0m\u001b[1;33m\u001b[0m\u001b[1;33m\u001b[0m\u001b[1;33m\u001b[0m\u001b[0m\n\u001b[0;32m      5\u001b[0m \u001b[0mmpl\u001b[0m\u001b[1;33m.\u001b[0m\u001b[0mshow\u001b[0m\u001b[1;33m(\u001b[0m\u001b[1;33m)\u001b[0m\u001b[1;33m\u001b[0m\u001b[1;33m\u001b[0m\u001b[0m\n",
      "\u001b[1;32mc:\\users\\pcs\\appdata\\local\\programs\\python\\python38\\lib\\site-packages\\matplotlib\\pyplot.py\u001b[0m in \u001b[0;36mscatter\u001b[1;34m(x, y, s, c, marker, cmap, norm, vmin, vmax, alpha, linewidths, verts, edgecolors, plotnonfinite, data, **kwargs)\u001b[0m\n\u001b[0;32m   2871\u001b[0m         \u001b[0mverts\u001b[0m\u001b[1;33m=\u001b[0m\u001b[0mcbook\u001b[0m\u001b[1;33m.\u001b[0m\u001b[0mdeprecation\u001b[0m\u001b[1;33m.\u001b[0m\u001b[0m_deprecated_parameter\u001b[0m\u001b[1;33m,\u001b[0m\u001b[1;33m\u001b[0m\u001b[1;33m\u001b[0m\u001b[0m\n\u001b[0;32m   2872\u001b[0m         edgecolors=None, *, plotnonfinite=False, data=None, **kwargs):\n\u001b[1;32m-> 2873\u001b[1;33m     __ret = gca().scatter(\n\u001b[0m\u001b[0;32m   2874\u001b[0m         \u001b[0mx\u001b[0m\u001b[1;33m,\u001b[0m \u001b[0my\u001b[0m\u001b[1;33m,\u001b[0m \u001b[0ms\u001b[0m\u001b[1;33m=\u001b[0m\u001b[0ms\u001b[0m\u001b[1;33m,\u001b[0m \u001b[0mc\u001b[0m\u001b[1;33m=\u001b[0m\u001b[0mc\u001b[0m\u001b[1;33m,\u001b[0m \u001b[0mmarker\u001b[0m\u001b[1;33m=\u001b[0m\u001b[0mmarker\u001b[0m\u001b[1;33m,\u001b[0m \u001b[0mcmap\u001b[0m\u001b[1;33m=\u001b[0m\u001b[0mcmap\u001b[0m\u001b[1;33m,\u001b[0m \u001b[0mnorm\u001b[0m\u001b[1;33m=\u001b[0m\u001b[0mnorm\u001b[0m\u001b[1;33m,\u001b[0m\u001b[1;33m\u001b[0m\u001b[1;33m\u001b[0m\u001b[0m\n\u001b[0;32m   2875\u001b[0m         \u001b[0mvmin\u001b[0m\u001b[1;33m=\u001b[0m\u001b[0mvmin\u001b[0m\u001b[1;33m,\u001b[0m \u001b[0mvmax\u001b[0m\u001b[1;33m=\u001b[0m\u001b[0mvmax\u001b[0m\u001b[1;33m,\u001b[0m \u001b[0malpha\u001b[0m\u001b[1;33m=\u001b[0m\u001b[0malpha\u001b[0m\u001b[1;33m,\u001b[0m \u001b[0mlinewidths\u001b[0m\u001b[1;33m=\u001b[0m\u001b[0mlinewidths\u001b[0m\u001b[1;33m,\u001b[0m\u001b[1;33m\u001b[0m\u001b[1;33m\u001b[0m\u001b[0m\n",
      "\u001b[1;32mc:\\users\\pcs\\appdata\\local\\programs\\python\\python38\\lib\\site-packages\\matplotlib\\__init__.py\u001b[0m in \u001b[0;36minner\u001b[1;34m(ax, data, *args, **kwargs)\u001b[0m\n\u001b[0;32m   1429\u001b[0m     \u001b[1;32mdef\u001b[0m \u001b[0minner\u001b[0m\u001b[1;33m(\u001b[0m\u001b[0max\u001b[0m\u001b[1;33m,\u001b[0m \u001b[1;33m*\u001b[0m\u001b[0margs\u001b[0m\u001b[1;33m,\u001b[0m \u001b[0mdata\u001b[0m\u001b[1;33m=\u001b[0m\u001b[1;32mNone\u001b[0m\u001b[1;33m,\u001b[0m \u001b[1;33m**\u001b[0m\u001b[0mkwargs\u001b[0m\u001b[1;33m)\u001b[0m\u001b[1;33m:\u001b[0m\u001b[1;33m\u001b[0m\u001b[1;33m\u001b[0m\u001b[0m\n\u001b[0;32m   1430\u001b[0m         \u001b[1;32mif\u001b[0m \u001b[0mdata\u001b[0m \u001b[1;32mis\u001b[0m \u001b[1;32mNone\u001b[0m\u001b[1;33m:\u001b[0m\u001b[1;33m\u001b[0m\u001b[1;33m\u001b[0m\u001b[0m\n\u001b[1;32m-> 1431\u001b[1;33m             \u001b[1;32mreturn\u001b[0m \u001b[0mfunc\u001b[0m\u001b[1;33m(\u001b[0m\u001b[0max\u001b[0m\u001b[1;33m,\u001b[0m \u001b[1;33m*\u001b[0m\u001b[0mmap\u001b[0m\u001b[1;33m(\u001b[0m\u001b[0msanitize_sequence\u001b[0m\u001b[1;33m,\u001b[0m \u001b[0margs\u001b[0m\u001b[1;33m)\u001b[0m\u001b[1;33m,\u001b[0m \u001b[1;33m**\u001b[0m\u001b[0mkwargs\u001b[0m\u001b[1;33m)\u001b[0m\u001b[1;33m\u001b[0m\u001b[1;33m\u001b[0m\u001b[0m\n\u001b[0m\u001b[0;32m   1432\u001b[0m \u001b[1;33m\u001b[0m\u001b[0m\n\u001b[0;32m   1433\u001b[0m         \u001b[0mbound\u001b[0m \u001b[1;33m=\u001b[0m \u001b[0mnew_sig\u001b[0m\u001b[1;33m.\u001b[0m\u001b[0mbind\u001b[0m\u001b[1;33m(\u001b[0m\u001b[0max\u001b[0m\u001b[1;33m,\u001b[0m \u001b[1;33m*\u001b[0m\u001b[0margs\u001b[0m\u001b[1;33m,\u001b[0m \u001b[1;33m**\u001b[0m\u001b[0mkwargs\u001b[0m\u001b[1;33m)\u001b[0m\u001b[1;33m\u001b[0m\u001b[1;33m\u001b[0m\u001b[0m\n",
      "\u001b[1;32mc:\\users\\pcs\\appdata\\local\\programs\\python\\python38\\lib\\site-packages\\matplotlib\\cbook\\deprecation.py\u001b[0m in \u001b[0;36mwrapper\u001b[1;34m(*inner_args, **inner_kwargs)\u001b[0m\n\u001b[0;32m    409\u001b[0m                          \u001b[1;32melse\u001b[0m \u001b[0mdeprecation_addendum\u001b[0m\u001b[1;33m,\u001b[0m\u001b[1;33m\u001b[0m\u001b[1;33m\u001b[0m\u001b[0m\n\u001b[0;32m    410\u001b[0m                 **kwargs)\n\u001b[1;32m--> 411\u001b[1;33m         \u001b[1;32mreturn\u001b[0m \u001b[0mfunc\u001b[0m\u001b[1;33m(\u001b[0m\u001b[1;33m*\u001b[0m\u001b[0minner_args\u001b[0m\u001b[1;33m,\u001b[0m \u001b[1;33m**\u001b[0m\u001b[0minner_kwargs\u001b[0m\u001b[1;33m)\u001b[0m\u001b[1;33m\u001b[0m\u001b[1;33m\u001b[0m\u001b[0m\n\u001b[0m\u001b[0;32m    412\u001b[0m \u001b[1;33m\u001b[0m\u001b[0m\n\u001b[0;32m    413\u001b[0m     \u001b[1;32mreturn\u001b[0m \u001b[0mwrapper\u001b[0m\u001b[1;33m\u001b[0m\u001b[1;33m\u001b[0m\u001b[0m\n",
      "\u001b[1;32mc:\\users\\pcs\\appdata\\local\\programs\\python\\python38\\lib\\site-packages\\matplotlib\\axes\\_axes.py\u001b[0m in \u001b[0;36mscatter\u001b[1;34m(self, x, y, s, c, marker, cmap, norm, vmin, vmax, alpha, linewidths, verts, edgecolors, plotnonfinite, **kwargs)\u001b[0m\n\u001b[0;32m   4486\u001b[0m         \u001b[0moffsets\u001b[0m \u001b[1;33m=\u001b[0m \u001b[0mnp\u001b[0m\u001b[1;33m.\u001b[0m\u001b[0mma\u001b[0m\u001b[1;33m.\u001b[0m\u001b[0mcolumn_stack\u001b[0m\u001b[1;33m(\u001b[0m\u001b[1;33m[\u001b[0m\u001b[0mx\u001b[0m\u001b[1;33m,\u001b[0m \u001b[0my\u001b[0m\u001b[1;33m]\u001b[0m\u001b[1;33m)\u001b[0m\u001b[1;33m\u001b[0m\u001b[1;33m\u001b[0m\u001b[0m\n\u001b[0;32m   4487\u001b[0m \u001b[1;33m\u001b[0m\u001b[0m\n\u001b[1;32m-> 4488\u001b[1;33m         collection = mcoll.PathCollection(\n\u001b[0m\u001b[0;32m   4489\u001b[0m                 \u001b[1;33m(\u001b[0m\u001b[0mpath\u001b[0m\u001b[1;33m,\u001b[0m\u001b[1;33m)\u001b[0m\u001b[1;33m,\u001b[0m \u001b[0mscales\u001b[0m\u001b[1;33m,\u001b[0m\u001b[1;33m\u001b[0m\u001b[1;33m\u001b[0m\u001b[0m\n\u001b[0;32m   4490\u001b[0m                 \u001b[0mfacecolors\u001b[0m\u001b[1;33m=\u001b[0m\u001b[0mcolors\u001b[0m\u001b[1;33m,\u001b[0m\u001b[1;33m\u001b[0m\u001b[1;33m\u001b[0m\u001b[0m\n",
      "\u001b[1;32mc:\\users\\pcs\\appdata\\local\\programs\\python\\python38\\lib\\site-packages\\matplotlib\\collections.py\u001b[0m in \u001b[0;36m__init__\u001b[1;34m(self, paths, sizes, **kwargs)\u001b[0m\n\u001b[0;32m    953\u001b[0m         \u001b[0msuper\u001b[0m\u001b[1;33m(\u001b[0m\u001b[1;33m)\u001b[0m\u001b[1;33m.\u001b[0m\u001b[0m__init__\u001b[0m\u001b[1;33m(\u001b[0m\u001b[1;33m**\u001b[0m\u001b[0mkwargs\u001b[0m\u001b[1;33m)\u001b[0m\u001b[1;33m\u001b[0m\u001b[1;33m\u001b[0m\u001b[0m\n\u001b[0;32m    954\u001b[0m         \u001b[0mself\u001b[0m\u001b[1;33m.\u001b[0m\u001b[0mset_paths\u001b[0m\u001b[1;33m(\u001b[0m\u001b[0mpaths\u001b[0m\u001b[1;33m)\u001b[0m\u001b[1;33m\u001b[0m\u001b[1;33m\u001b[0m\u001b[0m\n\u001b[1;32m--> 955\u001b[1;33m         \u001b[0mself\u001b[0m\u001b[1;33m.\u001b[0m\u001b[0mset_sizes\u001b[0m\u001b[1;33m(\u001b[0m\u001b[0msizes\u001b[0m\u001b[1;33m)\u001b[0m\u001b[1;33m\u001b[0m\u001b[1;33m\u001b[0m\u001b[0m\n\u001b[0m\u001b[0;32m    956\u001b[0m         \u001b[0mself\u001b[0m\u001b[1;33m.\u001b[0m\u001b[0mstale\u001b[0m \u001b[1;33m=\u001b[0m \u001b[1;32mTrue\u001b[0m\u001b[1;33m\u001b[0m\u001b[1;33m\u001b[0m\u001b[0m\n\u001b[0;32m    957\u001b[0m \u001b[1;33m\u001b[0m\u001b[0m\n",
      "\u001b[1;32mc:\\users\\pcs\\appdata\\local\\programs\\python\\python38\\lib\\site-packages\\matplotlib\\collections.py\u001b[0m in \u001b[0;36mset_sizes\u001b[1;34m(self, sizes, dpi)\u001b[0m\n\u001b[0;32m    920\u001b[0m             \u001b[0mself\u001b[0m\u001b[1;33m.\u001b[0m\u001b[0m_sizes\u001b[0m \u001b[1;33m=\u001b[0m \u001b[0mnp\u001b[0m\u001b[1;33m.\u001b[0m\u001b[0masarray\u001b[0m\u001b[1;33m(\u001b[0m\u001b[0msizes\u001b[0m\u001b[1;33m)\u001b[0m\u001b[1;33m\u001b[0m\u001b[1;33m\u001b[0m\u001b[0m\n\u001b[0;32m    921\u001b[0m             \u001b[0mself\u001b[0m\u001b[1;33m.\u001b[0m\u001b[0m_transforms\u001b[0m \u001b[1;33m=\u001b[0m \u001b[0mnp\u001b[0m\u001b[1;33m.\u001b[0m\u001b[0mzeros\u001b[0m\u001b[1;33m(\u001b[0m\u001b[1;33m(\u001b[0m\u001b[0mlen\u001b[0m\u001b[1;33m(\u001b[0m\u001b[0mself\u001b[0m\u001b[1;33m.\u001b[0m\u001b[0m_sizes\u001b[0m\u001b[1;33m)\u001b[0m\u001b[1;33m,\u001b[0m \u001b[1;36m3\u001b[0m\u001b[1;33m,\u001b[0m \u001b[1;36m3\u001b[0m\u001b[1;33m)\u001b[0m\u001b[1;33m)\u001b[0m\u001b[1;33m\u001b[0m\u001b[1;33m\u001b[0m\u001b[0m\n\u001b[1;32m--> 922\u001b[1;33m             \u001b[0mscale\u001b[0m \u001b[1;33m=\u001b[0m \u001b[0mnp\u001b[0m\u001b[1;33m.\u001b[0m\u001b[0msqrt\u001b[0m\u001b[1;33m(\u001b[0m\u001b[0mself\u001b[0m\u001b[1;33m.\u001b[0m\u001b[0m_sizes\u001b[0m\u001b[1;33m)\u001b[0m \u001b[1;33m*\u001b[0m \u001b[0mdpi\u001b[0m \u001b[1;33m/\u001b[0m \u001b[1;36m72.0\u001b[0m \u001b[1;33m*\u001b[0m \u001b[0mself\u001b[0m\u001b[1;33m.\u001b[0m\u001b[0m_factor\u001b[0m\u001b[1;33m\u001b[0m\u001b[1;33m\u001b[0m\u001b[0m\n\u001b[0m\u001b[0;32m    923\u001b[0m             \u001b[0mself\u001b[0m\u001b[1;33m.\u001b[0m\u001b[0m_transforms\u001b[0m\u001b[1;33m[\u001b[0m\u001b[1;33m:\u001b[0m\u001b[1;33m,\u001b[0m \u001b[1;36m0\u001b[0m\u001b[1;33m,\u001b[0m \u001b[1;36m0\u001b[0m\u001b[1;33m]\u001b[0m \u001b[1;33m=\u001b[0m \u001b[0mscale\u001b[0m\u001b[1;33m\u001b[0m\u001b[1;33m\u001b[0m\u001b[0m\n\u001b[0;32m    924\u001b[0m             \u001b[0mself\u001b[0m\u001b[1;33m.\u001b[0m\u001b[0m_transforms\u001b[0m\u001b[1;33m[\u001b[0m\u001b[1;33m:\u001b[0m\u001b[1;33m,\u001b[0m \u001b[1;36m1\u001b[0m\u001b[1;33m,\u001b[0m \u001b[1;36m1\u001b[0m\u001b[1;33m]\u001b[0m \u001b[1;33m=\u001b[0m \u001b[0mscale\u001b[0m\u001b[1;33m\u001b[0m\u001b[1;33m\u001b[0m\u001b[0m\n",
      "\u001b[1;31mTypeError\u001b[0m: loop of ufunc does not support argument 0 of type float which has no callable sqrt method"
     ]
    },
    {
     "data": {
      "image/png": "[encoded data removed]",
      "text/plain": [
       "<Figure size 432x288 with 1 Axes>"
      ]
     },
     "metadata": {
      "needs_background": "light"
     },
     "output_type": "display_data"
    }
   ],
   "source": [
    "area = np.pi * ( X[:, 1])**2  \n",
    "mpl.scatter(X[:, 1], X[:, 3], s=area, c=labels.astype(np.float), alpha=0.5)\n",
    "#mpl.xlabel('X', fontsize=18)\n",
    "#mpl.ylabel('Y', fontsize=16)\n",
    "mpl.show()\n"
   ]
  }
 ],
 "metadata": {
  "kernelspec": {
   "display_name": "Python 3",
   "language": "python",
   "name": "python3"
  },
  "language_info": {
   "codemirror_mode": {
    "name": "ipython",
    "version": 3
   },
   "file_extension": ".py",
   "mimetype": "text/x-python",
   "name": "python",
   "nbconvert_exporter": "python",
   "pygments_lexer": "ipython3",
   "version": "3.8.4"
  }
 },
 "nbformat": 4,
 "nbformat_minor": 4
}
